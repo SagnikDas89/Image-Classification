{
 "cells": [
  {
   "cell_type": "code",
   "execution_count": null,
   "metadata": {},
   "outputs": [],
   "source": []
  },
  {
   "cell_type": "code",
   "execution_count": 3,
   "metadata": {},
   "outputs": [],
   "source": [
    "# Importing Libraries\n",
    "import selenium\n",
    "import pandas as pd\n",
    "import time\n",
    "from bs4 import BeautifulSoup\n",
    "\n",
    "# Importing selenium webdriver \n",
    "from selenium import webdriver\n",
    "\n",
    "# Importing required Exceptions which needs to handled\n",
    "from selenium.common.exceptions import StaleElementReferenceException, NoSuchElementException\n",
    "\n",
    "#Importing requests\n",
    "import requests\n",
    "\n",
    "# importing regex\n",
    "import re"
   ]
  },
  {
   "cell_type": "code",
   "execution_count": 6,
   "metadata": {},
   "outputs": [],
   "source": [
    "driver=webdriver.Chrome()\n",
    "\n",
    "\n",
    "url = \"https://www.amazon.in\"\n",
    "driver.get(url)"
   ]
  },
  {
   "cell_type": "code",
   "execution_count": 7,
   "metadata": {},
   "outputs": [],
   "source": [
    "def get_url(search_term):\n",
    "    template = 'https://www.amazon.in/s?k={}&crid=2NUHUY8E1TOVP&sprefix=lapto%2Caps%2C317&ref=nb_sb_ss_ts-doa-p_3_5'\n",
    "    \n",
    "    return template.format(search_term)"
   ]
  },
  {
   "cell_type": "code",
   "execution_count": 8,
   "metadata": {},
   "outputs": [
    {
     "name": "stdout",
     "output_type": "stream",
     "text": [
      "https://www.amazon.in/s?k=saree&crid=2NUHUY8E1TOVP&sprefix=lapto%2Caps%2C317&ref=nb_sb_ss_ts-doa-p_3_5\n"
     ]
    }
   ],
   "source": [
    "url = get_url('saree')\n",
    "print(url)"
   ]
  },
  {
   "cell_type": "code",
   "execution_count": 9,
   "metadata": {},
   "outputs": [],
   "source": [
    "driver.get(url)"
   ]
  },
  {
   "cell_type": "code",
   "execution_count": 10,
   "metadata": {},
   "outputs": [],
   "source": [
    "images = driver.find_elements_by_xpath('//img[@class=\"s-image\"]')"
   ]
  },
  {
   "cell_type": "code",
   "execution_count": 11,
   "metadata": {},
   "outputs": [],
   "source": [
    "img_urls = []\n",
    "img_data = []\n",
    "for image in images:\n",
    "    source= image.get_attribute('src')\n",
    "    if source is not None:\n",
    "        if(source[0:4] == 'http'):\n",
    "            img_urls.append(source)"
   ]
  },
  {
   "cell_type": "code",
   "execution_count": 12,
   "metadata": {},
   "outputs": [
    {
     "name": "stdout",
     "output_type": "stream",
     "text": [
      "Downloading 0 of 200 images\n",
      "Downloading 1 of 200 images\n",
      "Downloading 2 of 200 images\n",
      "Downloading 3 of 200 images\n",
      "Downloading 4 of 200 images\n",
      "Downloading 5 of 200 images\n",
      "Downloading 6 of 200 images\n",
      "Downloading 7 of 200 images\n",
      "Downloading 8 of 200 images\n",
      "Downloading 9 of 200 images\n",
      "Downloading 10 of 200 images\n",
      "Downloading 11 of 200 images\n",
      "Downloading 12 of 200 images\n",
      "Downloading 13 of 200 images\n",
      "Downloading 14 of 200 images\n",
      "Downloading 15 of 200 images\n",
      "Downloading 16 of 200 images\n",
      "Downloading 17 of 200 images\n",
      "Downloading 18 of 200 images\n",
      "Downloading 19 of 200 images\n",
      "Downloading 20 of 200 images\n",
      "Downloading 21 of 200 images\n",
      "Downloading 22 of 200 images\n",
      "Downloading 23 of 200 images\n",
      "Downloading 24 of 200 images\n",
      "Downloading 25 of 200 images\n",
      "Downloading 26 of 200 images\n",
      "Downloading 27 of 200 images\n",
      "Downloading 28 of 200 images\n",
      "Downloading 29 of 200 images\n",
      "Downloading 30 of 200 images\n",
      "Downloading 31 of 200 images\n",
      "Downloading 32 of 200 images\n",
      "Downloading 33 of 200 images\n",
      "Downloading 34 of 200 images\n",
      "Downloading 35 of 200 images\n",
      "Downloading 36 of 200 images\n",
      "Downloading 37 of 200 images\n",
      "Downloading 38 of 200 images\n",
      "Downloading 39 of 200 images\n",
      "Downloading 40 of 200 images\n",
      "Downloading 41 of 200 images\n",
      "Downloading 42 of 200 images\n",
      "Downloading 43 of 200 images\n",
      "Downloading 44 of 200 images\n",
      "Downloading 45 of 200 images\n",
      "Downloading 46 of 200 images\n",
      "Downloading 47 of 200 images\n",
      "Downloading 48 of 200 images\n",
      "Downloading 49 of 200 images\n",
      "Downloading 50 of 200 images\n",
      "Downloading 51 of 200 images\n",
      "Downloading 52 of 200 images\n",
      "Downloading 53 of 200 images\n",
      "Downloading 54 of 200 images\n",
      "Downloading 55 of 200 images\n",
      "Downloading 56 of 200 images\n",
      "Downloading 57 of 200 images\n",
      "Downloading 58 of 200 images\n",
      "Downloading 59 of 200 images\n",
      "Downloading 60 of 200 images\n",
      "Downloading 61 of 200 images\n",
      "Downloading 62 of 200 images\n",
      "Downloading 63 of 200 images\n",
      "Downloading 64 of 200 images\n",
      "Downloading 65 of 200 images\n",
      "Downloading 66 of 200 images\n",
      "Downloading 67 of 200 images\n",
      "Downloading 68 of 200 images\n",
      "Downloading 69 of 200 images\n",
      "Downloading 70 of 200 images\n",
      "Downloading 71 of 200 images\n",
      "Downloading 72 of 200 images\n",
      "Downloading 73 of 200 images\n",
      "Downloading 74 of 200 images\n",
      "Downloading 75 of 200 images\n",
      "Downloading 76 of 200 images\n",
      "Downloading 77 of 200 images\n",
      "Downloading 78 of 200 images\n"
     ]
    }
   ],
   "source": [
    "for i in range(len(img_urls)):\n",
    "    if i >= 200:\n",
    "        break\n",
    "    print(\"Downloading {0} of {1} images\" .format(i, 200))\n",
    "    response= requests.get(img_urls[i])\n",
    "    file = open(r\"C:\\Users\\SAGNIK DAS\\OneDrive\\Desktop\\New folder (3)\"+str(i)+\".jpg\", \"wb\")\n",
    "    file.write(response.content)"
   ]
  },
  {
   "cell_type": "code",
   "execution_count": 4,
   "metadata": {},
   "outputs": [],
   "source": [
    "driver=webdriver.Chrome()\n",
    "\n",
    "\n",
    "url = \"https://www.flipkart.com/\"\n",
    "driver.get(url)"
   ]
  },
  {
   "cell_type": "code",
   "execution_count": 5,
   "metadata": {},
   "outputs": [],
   "source": [
    "def get_url(search_term):\n",
    "    template = 'https://www.flipkart.com/search?q={}&otracker=search&otracker1=search&marketplace=FLIPKART&as-show=on&as=off'\n",
    "    \n",
    "    return template.format(search_term)"
   ]
  },
  {
   "cell_type": "code",
   "execution_count": 6,
   "metadata": {},
   "outputs": [
    {
     "name": "stdout",
     "output_type": "stream",
     "text": [
      "https://www.flipkart.com/search?q=saree&otracker=search&otracker1=search&marketplace=FLIPKART&as-show=on&as=off\n"
     ]
    }
   ],
   "source": [
    "url = get_url('saree')\n",
    "print(url)"
   ]
  },
  {
   "cell_type": "code",
   "execution_count": 7,
   "metadata": {},
   "outputs": [],
   "source": [
    "driver.get(url)"
   ]
  },
  {
   "cell_type": "code",
   "execution_count": 8,
   "metadata": {},
   "outputs": [],
   "source": [
    "images = driver.find_elements_by_xpath('//img[@class=\"_2r_T1I\"]')"
   ]
  },
  {
   "cell_type": "code",
   "execution_count": 9,
   "metadata": {},
   "outputs": [],
   "source": [
    "img_urls = []\n",
    "img_data = []\n",
    "for image in images:\n",
    "    source= image.get_attribute('src')\n",
    "    if source is not None:\n",
    "        if(source[0:4] == 'http'):\n",
    "            img_urls.append(source)"
   ]
  },
  {
   "cell_type": "code",
   "execution_count": 24,
   "metadata": {},
   "outputs": [
    {
     "name": "stdout",
     "output_type": "stream",
     "text": [
      "Downloading 0 of 200 images\n",
      "Downloading 1 of 200 images\n",
      "Downloading 2 of 200 images\n",
      "Downloading 3 of 200 images\n",
      "Downloading 4 of 200 images\n",
      "Downloading 5 of 200 images\n",
      "Downloading 6 of 200 images\n",
      "Downloading 7 of 200 images\n",
      "Downloading 8 of 200 images\n",
      "Downloading 9 of 200 images\n",
      "Downloading 10 of 200 images\n",
      "Downloading 11 of 200 images\n",
      "Downloading 12 of 200 images\n",
      "Downloading 13 of 200 images\n",
      "Downloading 14 of 200 images\n",
      "Downloading 15 of 200 images\n",
      "Downloading 16 of 200 images\n",
      "Downloading 17 of 200 images\n",
      "Downloading 18 of 200 images\n",
      "Downloading 19 of 200 images\n",
      "Downloading 20 of 200 images\n",
      "Downloading 21 of 200 images\n",
      "Downloading 22 of 200 images\n",
      "Downloading 23 of 200 images\n",
      "Downloading 24 of 200 images\n",
      "Downloading 25 of 200 images\n",
      "Downloading 26 of 200 images\n",
      "Downloading 27 of 200 images\n",
      "Downloading 28 of 200 images\n",
      "Downloading 29 of 200 images\n",
      "Downloading 30 of 200 images\n",
      "Downloading 31 of 200 images\n",
      "Downloading 32 of 200 images\n",
      "Downloading 33 of 200 images\n",
      "Downloading 34 of 200 images\n",
      "Downloading 35 of 200 images\n",
      "Downloading 36 of 200 images\n",
      "Downloading 37 of 200 images\n",
      "Downloading 38 of 200 images\n",
      "Downloading 39 of 200 images\n"
     ]
    }
   ],
   "source": [
    "for i in range(len(img_urls)):\n",
    "    if i >= 200:\n",
    "        break\n",
    "    print(\"Downloading {0} of {1} images\" .format(i, 200))\n",
    "    response= requests.get(img_urls[i])\n",
    "    file = open(r\"C:\\Users\\SAGNIK DAS\\OneDrive\\Desktop\\New folder (3)\"+str(i)+\"a.jpg\", \"wb\")\n",
    "    file.write(response.content)\n",
    "    "
   ]
  },
  {
   "cell_type": "code",
   "execution_count": 11,
   "metadata": {},
   "outputs": [],
   "source": [
    "driver=webdriver.Chrome(\"chromedriver.exe\") \n",
    "time.sleep(4)\n",
    "\n",
    "url = \"https://www.flipkart.com/search?q=saree&otracker=search&otracker1=search&marketplace=FLIPKART&as-show=on&as=off&page=2\"\n",
    "driver.get(url)\n",
    "time.sleep(6)"
   ]
  },
  {
   "cell_type": "code",
   "execution_count": 12,
   "metadata": {},
   "outputs": [],
   "source": [
    "images = driver.find_elements_by_xpath('//img[@class=\"_2r_T1I\"]')"
   ]
  },
  {
   "cell_type": "code",
   "execution_count": 13,
   "metadata": {},
   "outputs": [],
   "source": [
    "img_urls = []\n",
    "img_data = []\n",
    "for image in images:\n",
    "    source= image.get_attribute('src')\n",
    "    if source is not None:\n",
    "        if(source[0:4] == 'http'):\n",
    "            img_urls.append(source)"
   ]
  },
  {
   "cell_type": "code",
   "execution_count": 25,
   "metadata": {},
   "outputs": [
    {
     "name": "stdout",
     "output_type": "stream",
     "text": [
      "Downloading 0 of 200 images\n",
      "Downloading 1 of 200 images\n",
      "Downloading 2 of 200 images\n",
      "Downloading 3 of 200 images\n",
      "Downloading 4 of 200 images\n",
      "Downloading 5 of 200 images\n",
      "Downloading 6 of 200 images\n",
      "Downloading 7 of 200 images\n",
      "Downloading 8 of 200 images\n",
      "Downloading 9 of 200 images\n",
      "Downloading 10 of 200 images\n",
      "Downloading 11 of 200 images\n",
      "Downloading 12 of 200 images\n",
      "Downloading 13 of 200 images\n",
      "Downloading 14 of 200 images\n",
      "Downloading 15 of 200 images\n",
      "Downloading 16 of 200 images\n",
      "Downloading 17 of 200 images\n",
      "Downloading 18 of 200 images\n",
      "Downloading 19 of 200 images\n",
      "Downloading 20 of 200 images\n",
      "Downloading 21 of 200 images\n",
      "Downloading 22 of 200 images\n",
      "Downloading 23 of 200 images\n",
      "Downloading 24 of 200 images\n",
      "Downloading 25 of 200 images\n",
      "Downloading 26 of 200 images\n",
      "Downloading 27 of 200 images\n",
      "Downloading 28 of 200 images\n",
      "Downloading 29 of 200 images\n",
      "Downloading 30 of 200 images\n",
      "Downloading 31 of 200 images\n",
      "Downloading 32 of 200 images\n",
      "Downloading 33 of 200 images\n",
      "Downloading 34 of 200 images\n",
      "Downloading 35 of 200 images\n",
      "Downloading 36 of 200 images\n",
      "Downloading 37 of 200 images\n",
      "Downloading 38 of 200 images\n",
      "Downloading 39 of 200 images\n"
     ]
    }
   ],
   "source": [
    "for i in range(len(img_urls)):\n",
    "    if i >= 200:\n",
    "        break\n",
    "    print(\"Downloading {0} of {1} images\" .format(i, 200))\n",
    "    response= requests.get(img_urls[i])\n",
    "    file = open(r\"C:\\Users\\SAGNIK DAS\\OneDrive\\Desktop\\New folder (3)\\New folder\"+str(i)+\"b.jpg\", \"wb\")\n",
    "    file.write(response.content)"
   ]
  },
  {
   "cell_type": "code",
   "execution_count": 15,
   "metadata": {},
   "outputs": [],
   "source": [
    "driver=webdriver.Chrome(\"chromedriver.exe\") \n",
    "time.sleep(4)\n",
    "\n",
    "url = \"https://www.flipkart.com/search?q=saree&otracker=search&otracker1=search&marketplace=FLIPKART&as-show=on&as=off&page=3\"\n",
    "driver.get(url)\n",
    "time.sleep(6)"
   ]
  },
  {
   "cell_type": "code",
   "execution_count": 16,
   "metadata": {},
   "outputs": [],
   "source": [
    "images = driver.find_elements_by_xpath('//img[@class=\"_2r_T1I\"]')"
   ]
  },
  {
   "cell_type": "code",
   "execution_count": 17,
   "metadata": {},
   "outputs": [],
   "source": [
    "img_urls = []\n",
    "img_data = []\n",
    "for image in images:\n",
    "    source= image.get_attribute('src')\n",
    "    if source is not None:\n",
    "        if(source[0:4] == 'http'):\n",
    "            img_urls.append(source)"
   ]
  },
  {
   "cell_type": "code",
   "execution_count": 18,
   "metadata": {},
   "outputs": [
    {
     "name": "stdout",
     "output_type": "stream",
     "text": [
      "Downloading 0 of 200 images\n",
      "Downloading 1 of 200 images\n",
      "Downloading 2 of 200 images\n",
      "Downloading 3 of 200 images\n",
      "Downloading 4 of 200 images\n",
      "Downloading 5 of 200 images\n",
      "Downloading 6 of 200 images\n",
      "Downloading 7 of 200 images\n",
      "Downloading 8 of 200 images\n",
      "Downloading 9 of 200 images\n",
      "Downloading 10 of 200 images\n",
      "Downloading 11 of 200 images\n",
      "Downloading 12 of 200 images\n",
      "Downloading 13 of 200 images\n",
      "Downloading 14 of 200 images\n",
      "Downloading 15 of 200 images\n",
      "Downloading 16 of 200 images\n",
      "Downloading 17 of 200 images\n",
      "Downloading 18 of 200 images\n",
      "Downloading 19 of 200 images\n",
      "Downloading 20 of 200 images\n",
      "Downloading 21 of 200 images\n",
      "Downloading 22 of 200 images\n",
      "Downloading 23 of 200 images\n",
      "Downloading 24 of 200 images\n",
      "Downloading 25 of 200 images\n",
      "Downloading 26 of 200 images\n",
      "Downloading 27 of 200 images\n",
      "Downloading 28 of 200 images\n",
      "Downloading 29 of 200 images\n",
      "Downloading 30 of 200 images\n",
      "Downloading 31 of 200 images\n",
      "Downloading 32 of 200 images\n",
      "Downloading 33 of 200 images\n",
      "Downloading 34 of 200 images\n",
      "Downloading 35 of 200 images\n",
      "Downloading 36 of 200 images\n",
      "Downloading 37 of 200 images\n",
      "Downloading 38 of 200 images\n",
      "Downloading 39 of 200 images\n"
     ]
    }
   ],
   "source": [
    "for i in range(len(img_urls)):\n",
    "    if i >= 200:\n",
    "        break\n",
    "    print(\"Downloading {0} of {1} images\" .format(i, 200))\n",
    "    response= requests.get(img_urls[i])\n",
    "    file = open(r\"C:\\Users\\SAGNIK DAS\\OneDrive\\Desktop\\New folder (3)\\New folder\"+str(i)+\".jpg\", \"wb\")\n",
    "    file.write(response.content)"
   ]
  },
  {
   "cell_type": "code",
   "execution_count": 19,
   "metadata": {},
   "outputs": [],
   "source": [
    "driver=webdriver.Chrome(\"chromedriver.exe\") \n",
    "time.sleep(4)\n",
    "\n",
    "url = \"https://www.flipkart.com/search?q=saree&otracker=search&otracker1=search&marketplace=FLIPKART&as-show=on&as=off&page=4\"\n",
    "driver.get(url)\n",
    "time.sleep(6)"
   ]
  },
  {
   "cell_type": "code",
   "execution_count": 20,
   "metadata": {},
   "outputs": [],
   "source": [
    "images = driver.find_elements_by_xpath('//img[@class=\"_2r_T1I\"]')"
   ]
  },
  {
   "cell_type": "code",
   "execution_count": 21,
   "metadata": {},
   "outputs": [],
   "source": [
    "img_urls = []\n",
    "img_data = []\n",
    "for image in images:\n",
    "    source= image.get_attribute('src')\n",
    "    if source is not None:\n",
    "        if(source[0:4] == 'http'):\n",
    "            img_urls.append(source)"
   ]
  },
  {
   "cell_type": "code",
   "execution_count": 26,
   "metadata": {},
   "outputs": [
    {
     "name": "stdout",
     "output_type": "stream",
     "text": [
      "Downloading 0 of 200 images\n",
      "Downloading 1 of 200 images\n",
      "Downloading 2 of 200 images\n",
      "Downloading 3 of 200 images\n",
      "Downloading 4 of 200 images\n",
      "Downloading 5 of 200 images\n",
      "Downloading 6 of 200 images\n",
      "Downloading 7 of 200 images\n",
      "Downloading 8 of 200 images\n",
      "Downloading 9 of 200 images\n",
      "Downloading 10 of 200 images\n",
      "Downloading 11 of 200 images\n",
      "Downloading 12 of 200 images\n",
      "Downloading 13 of 200 images\n",
      "Downloading 14 of 200 images\n",
      "Downloading 15 of 200 images\n",
      "Downloading 16 of 200 images\n",
      "Downloading 17 of 200 images\n",
      "Downloading 18 of 200 images\n",
      "Downloading 19 of 200 images\n",
      "Downloading 20 of 200 images\n",
      "Downloading 21 of 200 images\n",
      "Downloading 22 of 200 images\n",
      "Downloading 23 of 200 images\n",
      "Downloading 24 of 200 images\n",
      "Downloading 25 of 200 images\n",
      "Downloading 26 of 200 images\n",
      "Downloading 27 of 200 images\n",
      "Downloading 28 of 200 images\n",
      "Downloading 29 of 200 images\n",
      "Downloading 30 of 200 images\n",
      "Downloading 31 of 200 images\n",
      "Downloading 32 of 200 images\n",
      "Downloading 33 of 200 images\n",
      "Downloading 34 of 200 images\n",
      "Downloading 35 of 200 images\n",
      "Downloading 36 of 200 images\n",
      "Downloading 37 of 200 images\n",
      "Downloading 38 of 200 images\n",
      "Downloading 39 of 200 images\n"
     ]
    }
   ],
   "source": [
    "for i in range(len(img_urls)):\n",
    "    if i >= 200:\n",
    "        break\n",
    "    print(\"Downloading {0} of {1} images\" .format(i, 200))\n",
    "    response= requests.get(img_urls[i])\n",
    "    file = open(r\"C:\\Users\\SAGNIK DAS\\OneDrive\\Desktop\\New folder (3)\\New folder\"+str(i)+\"c.jpg\", \"wb\")\n",
    "    file.write(response.content)"
   ]
  },
  {
   "cell_type": "code",
   "execution_count": 27,
   "metadata": {},
   "outputs": [],
   "source": [
    "driver=webdriver.Chrome(\"chromedriver.exe\") \n",
    "time.sleep(4)\n",
    "\n",
    "url = \"https://www.flipkart.com/search?q=saree&otracker=search&otracker1=search&marketplace=FLIPKART&as-show=on&as=off&page=5\"\n",
    "driver.get(url)\n",
    "time.sleep(6)"
   ]
  },
  {
   "cell_type": "code",
   "execution_count": 28,
   "metadata": {},
   "outputs": [],
   "source": [
    "images = driver.find_elements_by_xpath('//img[@class=\"_2r_T1I\"]')"
   ]
  },
  {
   "cell_type": "code",
   "execution_count": 29,
   "metadata": {},
   "outputs": [],
   "source": [
    "img_urls = []\n",
    "img_data = []\n",
    "for image in images:\n",
    "    source= image.get_attribute('src')\n",
    "    if source is not None:\n",
    "        if(source[0:4] == 'http'):\n",
    "            img_urls.append(source)"
   ]
  },
  {
   "cell_type": "code",
   "execution_count": 30,
   "metadata": {},
   "outputs": [
    {
     "name": "stdout",
     "output_type": "stream",
     "text": [
      "Downloading 0 of 200 images\n",
      "Downloading 1 of 200 images\n",
      "Downloading 2 of 200 images\n",
      "Downloading 3 of 200 images\n",
      "Downloading 4 of 200 images\n",
      "Downloading 5 of 200 images\n",
      "Downloading 6 of 200 images\n",
      "Downloading 7 of 200 images\n",
      "Downloading 8 of 200 images\n",
      "Downloading 9 of 200 images\n",
      "Downloading 10 of 200 images\n",
      "Downloading 11 of 200 images\n",
      "Downloading 12 of 200 images\n",
      "Downloading 13 of 200 images\n",
      "Downloading 14 of 200 images\n",
      "Downloading 15 of 200 images\n",
      "Downloading 16 of 200 images\n",
      "Downloading 17 of 200 images\n",
      "Downloading 18 of 200 images\n",
      "Downloading 19 of 200 images\n",
      "Downloading 20 of 200 images\n",
      "Downloading 21 of 200 images\n",
      "Downloading 22 of 200 images\n",
      "Downloading 23 of 200 images\n",
      "Downloading 24 of 200 images\n",
      "Downloading 25 of 200 images\n",
      "Downloading 26 of 200 images\n",
      "Downloading 27 of 200 images\n",
      "Downloading 28 of 200 images\n",
      "Downloading 29 of 200 images\n",
      "Downloading 30 of 200 images\n",
      "Downloading 31 of 200 images\n",
      "Downloading 32 of 200 images\n",
      "Downloading 33 of 200 images\n",
      "Downloading 34 of 200 images\n",
      "Downloading 35 of 200 images\n",
      "Downloading 36 of 200 images\n",
      "Downloading 37 of 200 images\n",
      "Downloading 38 of 200 images\n",
      "Downloading 39 of 200 images\n"
     ]
    }
   ],
   "source": [
    "for i in range(len(img_urls)):\n",
    "    if i >= 200:\n",
    "        break\n",
    "    print(\"Downloading {0} of {1} images\" .format(i, 200))\n",
    "    response= requests.get(img_urls[i])\n",
    "    file = open(r\"C:\\Users\\SAGNIK DAS\\OneDrive\\Desktop\\New folder (3)\\New folder\"+str(i)+\"d.jpg\", \"wb\")\n",
    "    file.write(response.content)"
   ]
  },
  {
   "cell_type": "code",
   "execution_count": 31,
   "metadata": {},
   "outputs": [],
   "source": [
    "driver=webdriver.Chrome(\"chromedriver.exe\") \n",
    "time.sleep(4)\n",
    "url = \"https://www.amazon.in/s?k=trousers&ref=nb_sb_noss_1\"\n",
    "driver.get(url)\n",
    "time.sleep(6)\n"
   ]
  },
  {
   "cell_type": "code",
   "execution_count": 32,
   "metadata": {},
   "outputs": [],
   "source": [
    "images = driver.find_elements_by_xpath('//img[@class=\"s-image\"]')"
   ]
  },
  {
   "cell_type": "code",
   "execution_count": 33,
   "metadata": {},
   "outputs": [],
   "source": [
    "img_urls = []\n",
    "img_data = []\n",
    "for image in images:\n",
    "    source= image.get_attribute('src')\n",
    "    if source is not None:\n",
    "        if(source[0:4] == 'http'):\n",
    "            img_urls.append(source)\n"
   ]
  },
  {
   "cell_type": "code",
   "execution_count": 34,
   "metadata": {},
   "outputs": [
    {
     "name": "stdout",
     "output_type": "stream",
     "text": [
      "Downloading 0 of 200 images\n",
      "Downloading 1 of 200 images\n",
      "Downloading 2 of 200 images\n",
      "Downloading 3 of 200 images\n",
      "Downloading 4 of 200 images\n",
      "Downloading 5 of 200 images\n",
      "Downloading 6 of 200 images\n",
      "Downloading 7 of 200 images\n",
      "Downloading 8 of 200 images\n",
      "Downloading 9 of 200 images\n",
      "Downloading 10 of 200 images\n",
      "Downloading 11 of 200 images\n",
      "Downloading 12 of 200 images\n",
      "Downloading 13 of 200 images\n",
      "Downloading 14 of 200 images\n",
      "Downloading 15 of 200 images\n",
      "Downloading 16 of 200 images\n",
      "Downloading 17 of 200 images\n",
      "Downloading 18 of 200 images\n",
      "Downloading 19 of 200 images\n",
      "Downloading 20 of 200 images\n",
      "Downloading 21 of 200 images\n",
      "Downloading 22 of 200 images\n",
      "Downloading 23 of 200 images\n",
      "Downloading 24 of 200 images\n",
      "Downloading 25 of 200 images\n",
      "Downloading 26 of 200 images\n",
      "Downloading 27 of 200 images\n",
      "Downloading 28 of 200 images\n",
      "Downloading 29 of 200 images\n",
      "Downloading 30 of 200 images\n",
      "Downloading 31 of 200 images\n",
      "Downloading 32 of 200 images\n",
      "Downloading 33 of 200 images\n",
      "Downloading 34 of 200 images\n",
      "Downloading 35 of 200 images\n",
      "Downloading 36 of 200 images\n",
      "Downloading 37 of 200 images\n",
      "Downloading 38 of 200 images\n",
      "Downloading 39 of 200 images\n",
      "Downloading 40 of 200 images\n",
      "Downloading 41 of 200 images\n",
      "Downloading 42 of 200 images\n",
      "Downloading 43 of 200 images\n",
      "Downloading 44 of 200 images\n",
      "Downloading 45 of 200 images\n",
      "Downloading 46 of 200 images\n",
      "Downloading 47 of 200 images\n",
      "Downloading 48 of 200 images\n",
      "Downloading 49 of 200 images\n",
      "Downloading 50 of 200 images\n",
      "Downloading 51 of 200 images\n",
      "Downloading 52 of 200 images\n",
      "Downloading 53 of 200 images\n",
      "Downloading 54 of 200 images\n",
      "Downloading 55 of 200 images\n",
      "Downloading 56 of 200 images\n",
      "Downloading 57 of 200 images\n",
      "Downloading 58 of 200 images\n",
      "Downloading 59 of 200 images\n",
      "Downloading 60 of 200 images\n",
      "Downloading 61 of 200 images\n",
      "Downloading 62 of 200 images\n",
      "Downloading 63 of 200 images\n",
      "Downloading 64 of 200 images\n",
      "Downloading 65 of 200 images\n",
      "Downloading 66 of 200 images\n",
      "Downloading 67 of 200 images\n"
     ]
    }
   ],
   "source": [
    "for i in range(len(img_urls)):\n",
    "    if i >= 200:\n",
    "        break\n",
    "    print(\"Downloading {0} of {1} images\" .format(i, 200))\n",
    "    response= requests.get(img_urls[i])\n",
    "    file = open(r\"C:\\Users\\SAGNIK DAS\\OneDrive\\Desktop\\New folder (3)\\New folder\"+str(i)+\"e.jpg\", \"wb\")\n",
    "    file.write(response.content)\n"
   ]
  },
  {
   "cell_type": "code",
   "execution_count": 35,
   "metadata": {},
   "outputs": [],
   "source": [
    "driver=webdriver.Chrome(\"chromedriver.exe\") \n",
    "time.sleep(4)\n",
    "url = \"https://www.amazon.in/s?k=trousers&page=2&qid=1638622184&ref=sr_pg_2\"\n",
    "driver.get(url)\n",
    "time.sleep(6)\n"
   ]
  },
  {
   "cell_type": "code",
   "execution_count": 38,
   "metadata": {},
   "outputs": [],
   "source": [
    "images = driver.find_elements_by_xpath('//img[@class=\"s-image\"]')"
   ]
  },
  {
   "cell_type": "code",
   "execution_count": 39,
   "metadata": {},
   "outputs": [],
   "source": [
    "img_urls = []\n",
    "img_data = []\n",
    "for image in images:\n",
    "    source= image.get_attribute('src')\n",
    "    if source is not None:\n",
    "        if(source[0:4] == 'http'):\n",
    "            img_urls.append(source)\n"
   ]
  },
  {
   "cell_type": "code",
   "execution_count": 41,
   "metadata": {},
   "outputs": [
    {
     "name": "stdout",
     "output_type": "stream",
     "text": [
      "Downloading 0 of 200 images\n",
      "Downloading 1 of 200 images\n",
      "Downloading 2 of 200 images\n",
      "Downloading 3 of 200 images\n",
      "Downloading 4 of 200 images\n",
      "Downloading 5 of 200 images\n",
      "Downloading 6 of 200 images\n",
      "Downloading 7 of 200 images\n",
      "Downloading 8 of 200 images\n",
      "Downloading 9 of 200 images\n",
      "Downloading 10 of 200 images\n",
      "Downloading 11 of 200 images\n",
      "Downloading 12 of 200 images\n",
      "Downloading 13 of 200 images\n",
      "Downloading 14 of 200 images\n",
      "Downloading 15 of 200 images\n",
      "Downloading 16 of 200 images\n",
      "Downloading 17 of 200 images\n",
      "Downloading 18 of 200 images\n",
      "Downloading 19 of 200 images\n",
      "Downloading 20 of 200 images\n",
      "Downloading 21 of 200 images\n",
      "Downloading 22 of 200 images\n",
      "Downloading 23 of 200 images\n",
      "Downloading 24 of 200 images\n",
      "Downloading 25 of 200 images\n",
      "Downloading 26 of 200 images\n",
      "Downloading 27 of 200 images\n",
      "Downloading 28 of 200 images\n",
      "Downloading 29 of 200 images\n",
      "Downloading 30 of 200 images\n",
      "Downloading 31 of 200 images\n",
      "Downloading 32 of 200 images\n",
      "Downloading 33 of 200 images\n",
      "Downloading 34 of 200 images\n",
      "Downloading 35 of 200 images\n",
      "Downloading 36 of 200 images\n",
      "Downloading 37 of 200 images\n",
      "Downloading 38 of 200 images\n",
      "Downloading 39 of 200 images\n",
      "Downloading 40 of 200 images\n",
      "Downloading 41 of 200 images\n",
      "Downloading 42 of 200 images\n",
      "Downloading 43 of 200 images\n",
      "Downloading 44 of 200 images\n",
      "Downloading 45 of 200 images\n",
      "Downloading 46 of 200 images\n",
      "Downloading 47 of 200 images\n",
      "Downloading 48 of 200 images\n",
      "Downloading 49 of 200 images\n",
      "Downloading 50 of 200 images\n",
      "Downloading 51 of 200 images\n",
      "Downloading 52 of 200 images\n",
      "Downloading 53 of 200 images\n",
      "Downloading 54 of 200 images\n",
      "Downloading 55 of 200 images\n",
      "Downloading 56 of 200 images\n",
      "Downloading 57 of 200 images\n",
      "Downloading 58 of 200 images\n",
      "Downloading 59 of 200 images\n"
     ]
    }
   ],
   "source": [
    "for i in range(len(img_urls)):\n",
    "    if i >= 200:\n",
    "        break\n",
    "    print(\"Downloading {0} of {1} images\" .format(i, 200))\n",
    "    response= requests.get(img_urls[i])\n",
    "    file = open(r\"C:\\Users\\SAGNIK DAS\\OneDrive\\Desktop\\New folder (3)\\New folder\"+str(i)+\"gh.jpg\", \"wb\")\n",
    "    file.write(response.content)\n"
   ]
  },
  {
   "cell_type": "code",
   "execution_count": 42,
   "metadata": {},
   "outputs": [],
   "source": [
    "driver=webdriver.Chrome(\"chromedriver.exe\") \n",
    "time.sleep(4)\n",
    "url = \"https://www.amazon.in/s?k=trousers&page=2&qid=1638622184&ref=sr_pg_3\"\n",
    "driver.get(url)\n",
    "time.sleep(6)\n"
   ]
  },
  {
   "cell_type": "code",
   "execution_count": 43,
   "metadata": {},
   "outputs": [],
   "source": [
    "images = driver.find_elements_by_xpath('//img[@class=\"s-image\"]')"
   ]
  },
  {
   "cell_type": "code",
   "execution_count": 44,
   "metadata": {},
   "outputs": [],
   "source": [
    "img_urls = []\n",
    "img_data = []\n",
    "for image in images:\n",
    "    source= image.get_attribute('src')\n",
    "    if source is not None:\n",
    "        if(source[0:4] == 'http'):\n",
    "            img_urls.append(source)\n"
   ]
  },
  {
   "cell_type": "code",
   "execution_count": 45,
   "metadata": {},
   "outputs": [
    {
     "name": "stdout",
     "output_type": "stream",
     "text": [
      "Downloading 0 of 200 images\n",
      "Downloading 1 of 200 images\n",
      "Downloading 2 of 200 images\n",
      "Downloading 3 of 200 images\n",
      "Downloading 4 of 200 images\n",
      "Downloading 5 of 200 images\n",
      "Downloading 6 of 200 images\n",
      "Downloading 7 of 200 images\n",
      "Downloading 8 of 200 images\n",
      "Downloading 9 of 200 images\n",
      "Downloading 10 of 200 images\n",
      "Downloading 11 of 200 images\n",
      "Downloading 12 of 200 images\n",
      "Downloading 13 of 200 images\n",
      "Downloading 14 of 200 images\n",
      "Downloading 15 of 200 images\n",
      "Downloading 16 of 200 images\n",
      "Downloading 17 of 200 images\n",
      "Downloading 18 of 200 images\n",
      "Downloading 19 of 200 images\n",
      "Downloading 20 of 200 images\n",
      "Downloading 21 of 200 images\n",
      "Downloading 22 of 200 images\n",
      "Downloading 23 of 200 images\n",
      "Downloading 24 of 200 images\n",
      "Downloading 25 of 200 images\n",
      "Downloading 26 of 200 images\n",
      "Downloading 27 of 200 images\n",
      "Downloading 28 of 200 images\n",
      "Downloading 29 of 200 images\n",
      "Downloading 30 of 200 images\n",
      "Downloading 31 of 200 images\n",
      "Downloading 32 of 200 images\n",
      "Downloading 33 of 200 images\n",
      "Downloading 34 of 200 images\n",
      "Downloading 35 of 200 images\n",
      "Downloading 36 of 200 images\n",
      "Downloading 37 of 200 images\n",
      "Downloading 38 of 200 images\n",
      "Downloading 39 of 200 images\n",
      "Downloading 40 of 200 images\n",
      "Downloading 41 of 200 images\n",
      "Downloading 42 of 200 images\n",
      "Downloading 43 of 200 images\n",
      "Downloading 44 of 200 images\n",
      "Downloading 45 of 200 images\n",
      "Downloading 46 of 200 images\n",
      "Downloading 47 of 200 images\n",
      "Downloading 48 of 200 images\n",
      "Downloading 49 of 200 images\n",
      "Downloading 50 of 200 images\n",
      "Downloading 51 of 200 images\n",
      "Downloading 52 of 200 images\n",
      "Downloading 53 of 200 images\n",
      "Downloading 54 of 200 images\n",
      "Downloading 55 of 200 images\n",
      "Downloading 56 of 200 images\n",
      "Downloading 57 of 200 images\n",
      "Downloading 58 of 200 images\n",
      "Downloading 59 of 200 images\n"
     ]
    }
   ],
   "source": [
    "for i in range(len(img_urls)):\n",
    "    if i >= 200:\n",
    "        break\n",
    "    print(\"Downloading {0} of {1} images\" .format(i, 200))\n",
    "    response= requests.get(img_urls[i])\n",
    "    file = open(r\"C:\\Users\\SAGNIK DAS\\OneDrive\\Desktop\\New folder (3)\\New folder\"+str(i)+\"ij.jpg\", \"wb\")\n",
    "    file.write(response.content)"
   ]
  },
  {
   "cell_type": "code",
   "execution_count": 46,
   "metadata": {},
   "outputs": [],
   "source": [
    "driver=webdriver.Chrome(\"chromedriver.exe\") \n",
    "time.sleep(4)\n",
    "url = \"https://www.flipkart.com/search?q=trouser&sid=clo%2Cvua%2Cmle%2Clhk&as=on&as-show=on&otracker=AS_QueryStore_OrganicAutoSuggest_1_4_na_na_na&otracker1=AS_QueryStore_OrganicAutoSuggest_1_4_na_na_na&as-pos=1&as-type=RECENT&suggestionId=trouser%7CMen%27s+Trousers&requestId=2610783d-c2ad-4e53-abbb-308108574506&as-searchtext=trou\"\n",
    "driver.get(url)\n",
    "time.sleep(6)"
   ]
  },
  {
   "cell_type": "code",
   "execution_count": 47,
   "metadata": {},
   "outputs": [],
   "source": [
    "images = driver.find_elements_by_xpath('//img[@class=\"_2r_T1I\"]')"
   ]
  },
  {
   "cell_type": "code",
   "execution_count": 48,
   "metadata": {},
   "outputs": [],
   "source": [
    "img_urls = []\n",
    "img_data = []\n",
    "for image in images:\n",
    "    source= image.get_attribute('src')\n",
    "    if source is not None:\n",
    "        if(source[0:4] == 'http'):\n",
    "            img_urls.append(source)\n"
   ]
  },
  {
   "cell_type": "code",
   "execution_count": 49,
   "metadata": {},
   "outputs": [
    {
     "name": "stdout",
     "output_type": "stream",
     "text": [
      "Downloading 0 of 200 images\n",
      "Downloading 1 of 200 images\n",
      "Downloading 2 of 200 images\n",
      "Downloading 3 of 200 images\n",
      "Downloading 4 of 200 images\n",
      "Downloading 5 of 200 images\n",
      "Downloading 6 of 200 images\n",
      "Downloading 7 of 200 images\n",
      "Downloading 8 of 200 images\n",
      "Downloading 9 of 200 images\n",
      "Downloading 10 of 200 images\n",
      "Downloading 11 of 200 images\n",
      "Downloading 12 of 200 images\n",
      "Downloading 13 of 200 images\n",
      "Downloading 14 of 200 images\n",
      "Downloading 15 of 200 images\n",
      "Downloading 16 of 200 images\n",
      "Downloading 17 of 200 images\n",
      "Downloading 18 of 200 images\n",
      "Downloading 19 of 200 images\n",
      "Downloading 20 of 200 images\n",
      "Downloading 21 of 200 images\n",
      "Downloading 22 of 200 images\n",
      "Downloading 23 of 200 images\n",
      "Downloading 24 of 200 images\n",
      "Downloading 25 of 200 images\n",
      "Downloading 26 of 200 images\n",
      "Downloading 27 of 200 images\n",
      "Downloading 28 of 200 images\n",
      "Downloading 29 of 200 images\n",
      "Downloading 30 of 200 images\n",
      "Downloading 31 of 200 images\n",
      "Downloading 32 of 200 images\n",
      "Downloading 33 of 200 images\n",
      "Downloading 34 of 200 images\n",
      "Downloading 35 of 200 images\n",
      "Downloading 36 of 200 images\n",
      "Downloading 37 of 200 images\n",
      "Downloading 38 of 200 images\n",
      "Downloading 39 of 200 images\n"
     ]
    }
   ],
   "source": [
    "for i in range(len(img_urls)):\n",
    "    if i >= 200:\n",
    "        break\n",
    "    print(\"Downloading {0} of {1} images\" .format(i, 200))\n",
    "    response= requests.get(img_urls[i])\n",
    "    file = open(r\"C:\\Users\\SAGNIK DAS\\OneDrive\\Desktop\\New folder (3)\\New folder\"+str(i)+\".jpg\", \"wb\")\n",
    "    file.write(response.content)\n"
   ]
  },
  {
   "cell_type": "code",
   "execution_count": 50,
   "metadata": {},
   "outputs": [],
   "source": [
    "driver=webdriver.Chrome(\"chromedriver.exe\") \n",
    "time.sleep(4)\n",
    "url = \"https://www.flipkart.com/search?q=trouser&sid=clo%2Cvua%2Cmle%2Clhk&as=on&as-show=on&otracker=AS_QueryStore_OrganicAutoSuggest_1_4_na_na_na&otracker1=AS_QueryStore_OrganicAutoSuggest_1_4_na_na_na&as-pos=1&as-type=RECENT&suggestionId=trouser%7CMen%27s+Trousers&requestId=2610783d-c2ad-4e53-abbb-308108574506&as-searchtext=trou\"\n",
    "driver.get(url)\n",
    "time.sleep(6)"
   ]
  },
  {
   "cell_type": "code",
   "execution_count": 51,
   "metadata": {},
   "outputs": [],
   "source": [
    "images = driver.find_elements_by_xpath('//img[@class=\"_2r_T1I\"]')"
   ]
  },
  {
   "cell_type": "code",
   "execution_count": 52,
   "metadata": {},
   "outputs": [],
   "source": [
    "img_urls = []\n",
    "img_data = []\n",
    "for image in images:\n",
    "    source= image.get_attribute('src')\n",
    "    if source is not None:\n",
    "        if(source[0:4] == 'http'):\n",
    "            img_urls.append(source)\n"
   ]
  },
  {
   "cell_type": "code",
   "execution_count": 53,
   "metadata": {},
   "outputs": [
    {
     "name": "stdout",
     "output_type": "stream",
     "text": [
      "Downloading 0 of 200 images\n",
      "Downloading 1 of 200 images\n",
      "Downloading 2 of 200 images\n",
      "Downloading 3 of 200 images\n",
      "Downloading 4 of 200 images\n",
      "Downloading 5 of 200 images\n",
      "Downloading 6 of 200 images\n",
      "Downloading 7 of 200 images\n",
      "Downloading 8 of 200 images\n",
      "Downloading 9 of 200 images\n",
      "Downloading 10 of 200 images\n",
      "Downloading 11 of 200 images\n",
      "Downloading 12 of 200 images\n",
      "Downloading 13 of 200 images\n",
      "Downloading 14 of 200 images\n",
      "Downloading 15 of 200 images\n",
      "Downloading 16 of 200 images\n",
      "Downloading 17 of 200 images\n",
      "Downloading 18 of 200 images\n",
      "Downloading 19 of 200 images\n",
      "Downloading 20 of 200 images\n",
      "Downloading 21 of 200 images\n",
      "Downloading 22 of 200 images\n",
      "Downloading 23 of 200 images\n",
      "Downloading 24 of 200 images\n",
      "Downloading 25 of 200 images\n",
      "Downloading 26 of 200 images\n",
      "Downloading 27 of 200 images\n",
      "Downloading 28 of 200 images\n",
      "Downloading 29 of 200 images\n",
      "Downloading 30 of 200 images\n",
      "Downloading 31 of 200 images\n",
      "Downloading 32 of 200 images\n",
      "Downloading 33 of 200 images\n",
      "Downloading 34 of 200 images\n",
      "Downloading 35 of 200 images\n",
      "Downloading 36 of 200 images\n",
      "Downloading 37 of 200 images\n",
      "Downloading 38 of 200 images\n",
      "Downloading 39 of 200 images\n"
     ]
    }
   ],
   "source": [
    "for i in range(len(img_urls)):\n",
    "    if i >= 200:\n",
    "        break\n",
    "    print(\"Downloading {0} of {1} images\" .format(i, 200))\n",
    "    response= requests.get(img_urls[i])\n",
    "    file = open(r\"C:\\Users\\SAGNIK DAS\\OneDrive\\Desktop\\New folder (3)\\New folder\"+str(i)+\"kl.jpg\", \"wb\")\n",
    "    file.write(response.content)\n"
   ]
  },
  {
   "cell_type": "code",
   "execution_count": 54,
   "metadata": {},
   "outputs": [],
   "source": [
    "driver=webdriver.Chrome(\"chromedriver.exe\") \n",
    "time.sleep(4)\n",
    "url = \"https://www.flipkart.com/search?q=trouser&sid=clo%2Cvua%2Cmle%2Clhk&as=on&as-show=on&otracker=AS_QueryStore_OrganicAutoSuggest_1_4_na_na_na&otracker1=AS_QueryStore_OrganicAutoSuggest_1_4_na_na_na&as-pos=1&as-type=RECENT&suggestionId=trouser%7CMen%27s+Trousers&requestId=2610783d-c2ad-4e53-abbb-308108574506&as-searchtext=trou&page=3\"\n",
    "driver.get(url)\n",
    "time.sleep(6)"
   ]
  },
  {
   "cell_type": "code",
   "execution_count": 55,
   "metadata": {},
   "outputs": [],
   "source": [
    "images = driver.find_elements_by_xpath('//img[@class=\"_2r_T1I\"]')"
   ]
  },
  {
   "cell_type": "code",
   "execution_count": 56,
   "metadata": {},
   "outputs": [],
   "source": [
    "img_urls = []\n",
    "img_data = []\n",
    "for image in images:\n",
    "    source= image.get_attribute('src')\n",
    "    if source is not None:\n",
    "        if(source[0:4] == 'http'):\n",
    "            img_urls.append(source)\n"
   ]
  },
  {
   "cell_type": "code",
   "execution_count": 57,
   "metadata": {},
   "outputs": [
    {
     "name": "stdout",
     "output_type": "stream",
     "text": [
      "Downloading 0 of 200 images\n",
      "Downloading 1 of 200 images\n",
      "Downloading 2 of 200 images\n",
      "Downloading 3 of 200 images\n",
      "Downloading 4 of 200 images\n",
      "Downloading 5 of 200 images\n",
      "Downloading 6 of 200 images\n",
      "Downloading 7 of 200 images\n",
      "Downloading 8 of 200 images\n",
      "Downloading 9 of 200 images\n",
      "Downloading 10 of 200 images\n",
      "Downloading 11 of 200 images\n",
      "Downloading 12 of 200 images\n",
      "Downloading 13 of 200 images\n",
      "Downloading 14 of 200 images\n",
      "Downloading 15 of 200 images\n",
      "Downloading 16 of 200 images\n",
      "Downloading 17 of 200 images\n",
      "Downloading 18 of 200 images\n",
      "Downloading 19 of 200 images\n",
      "Downloading 20 of 200 images\n",
      "Downloading 21 of 200 images\n",
      "Downloading 22 of 200 images\n",
      "Downloading 23 of 200 images\n",
      "Downloading 24 of 200 images\n",
      "Downloading 25 of 200 images\n",
      "Downloading 26 of 200 images\n",
      "Downloading 27 of 200 images\n",
      "Downloading 28 of 200 images\n",
      "Downloading 29 of 200 images\n",
      "Downloading 30 of 200 images\n",
      "Downloading 31 of 200 images\n",
      "Downloading 32 of 200 images\n",
      "Downloading 33 of 200 images\n",
      "Downloading 34 of 200 images\n",
      "Downloading 35 of 200 images\n",
      "Downloading 36 of 200 images\n",
      "Downloading 37 of 200 images\n",
      "Downloading 38 of 200 images\n",
      "Downloading 39 of 200 images\n"
     ]
    }
   ],
   "source": [
    "for i in range(len(img_urls)):\n",
    "    if i >= 200:\n",
    "        break\n",
    "    print(\"Downloading {0} of {1} images\" .format(i, 200))\n",
    "    response= requests.get(img_urls[i])\n",
    "    file = open(r\"C:\\Users\\SAGNIK DAS\\OneDrive\\Desktop\\New folder (3)\\New folder\"+str(i)+\"mn.jpg\", \"wb\")\n",
    "    file.write(response.content)\n"
   ]
  },
  {
   "cell_type": "code",
   "execution_count": 58,
   "metadata": {},
   "outputs": [],
   "source": [
    "driver=webdriver.Chrome(\"chromedriver.exe\") \n",
    "time.sleep(4)\n",
    "url = \"https://www.amazon.in/s?k=jeans+for+men&crid=2WZU22QAVHRCP&sprefix=jeans+%2Caps%2C326&ref=nb_sb_ss_midas-iss-sm_1_6\"\n",
    "driver.get(url)\n",
    "time.sleep(6)\n"
   ]
  },
  {
   "cell_type": "code",
   "execution_count": 59,
   "metadata": {},
   "outputs": [],
   "source": [
    "images = driver.find_elements_by_xpath('//img[@class=\"s-image\"]')"
   ]
  },
  {
   "cell_type": "code",
   "execution_count": 60,
   "metadata": {},
   "outputs": [],
   "source": [
    "img_urls = []\n",
    "img_data = []\n",
    "for image in images:\n",
    "    source= image.get_attribute('src')\n",
    "    if source is not None:\n",
    "        if(source[0:4] == 'http'):\n",
    "            img_urls.append(source)\n"
   ]
  },
  {
   "cell_type": "code",
   "execution_count": 61,
   "metadata": {},
   "outputs": [
    {
     "name": "stdout",
     "output_type": "stream",
     "text": [
      "Downloading 0 of 200 images\n",
      "Downloading 1 of 200 images\n",
      "Downloading 2 of 200 images\n",
      "Downloading 3 of 200 images\n",
      "Downloading 4 of 200 images\n",
      "Downloading 5 of 200 images\n",
      "Downloading 6 of 200 images\n",
      "Downloading 7 of 200 images\n",
      "Downloading 8 of 200 images\n",
      "Downloading 9 of 200 images\n",
      "Downloading 10 of 200 images\n",
      "Downloading 11 of 200 images\n",
      "Downloading 12 of 200 images\n",
      "Downloading 13 of 200 images\n",
      "Downloading 14 of 200 images\n",
      "Downloading 15 of 200 images\n",
      "Downloading 16 of 200 images\n",
      "Downloading 17 of 200 images\n",
      "Downloading 18 of 200 images\n",
      "Downloading 19 of 200 images\n",
      "Downloading 20 of 200 images\n",
      "Downloading 21 of 200 images\n",
      "Downloading 22 of 200 images\n",
      "Downloading 23 of 200 images\n",
      "Downloading 24 of 200 images\n",
      "Downloading 25 of 200 images\n",
      "Downloading 26 of 200 images\n",
      "Downloading 27 of 200 images\n",
      "Downloading 28 of 200 images\n",
      "Downloading 29 of 200 images\n",
      "Downloading 30 of 200 images\n",
      "Downloading 31 of 200 images\n",
      "Downloading 32 of 200 images\n",
      "Downloading 33 of 200 images\n",
      "Downloading 34 of 200 images\n",
      "Downloading 35 of 200 images\n",
      "Downloading 36 of 200 images\n",
      "Downloading 37 of 200 images\n",
      "Downloading 38 of 200 images\n",
      "Downloading 39 of 200 images\n",
      "Downloading 40 of 200 images\n",
      "Downloading 41 of 200 images\n",
      "Downloading 42 of 200 images\n",
      "Downloading 43 of 200 images\n",
      "Downloading 44 of 200 images\n",
      "Downloading 45 of 200 images\n",
      "Downloading 46 of 200 images\n",
      "Downloading 47 of 200 images\n",
      "Downloading 48 of 200 images\n",
      "Downloading 49 of 200 images\n",
      "Downloading 50 of 200 images\n",
      "Downloading 51 of 200 images\n",
      "Downloading 52 of 200 images\n",
      "Downloading 53 of 200 images\n",
      "Downloading 54 of 200 images\n",
      "Downloading 55 of 200 images\n",
      "Downloading 56 of 200 images\n",
      "Downloading 57 of 200 images\n",
      "Downloading 58 of 200 images\n",
      "Downloading 59 of 200 images\n",
      "Downloading 60 of 200 images\n",
      "Downloading 61 of 200 images\n",
      "Downloading 62 of 200 images\n",
      "Downloading 63 of 200 images\n",
      "Downloading 64 of 200 images\n",
      "Downloading 65 of 200 images\n",
      "Downloading 66 of 200 images\n",
      "Downloading 67 of 200 images\n",
      "Downloading 68 of 200 images\n",
      "Downloading 69 of 200 images\n",
      "Downloading 70 of 200 images\n",
      "Downloading 71 of 200 images\n",
      "Downloading 72 of 200 images\n",
      "Downloading 73 of 200 images\n",
      "Downloading 74 of 200 images\n",
      "Downloading 75 of 200 images\n",
      "Downloading 76 of 200 images\n",
      "Downloading 77 of 200 images\n",
      "Downloading 78 of 200 images\n",
      "Downloading 79 of 200 images\n"
     ]
    }
   ],
   "source": [
    "for i in range(len(img_urls)):\n",
    "    if i >= 200:\n",
    "        break\n",
    "    print(\"Downloading {0} of {1} images\" .format(i, 200))\n",
    "    response= requests.get(img_urls[i])\n",
    "    file = open(r\"C:\\Users\\SAGNIK DAS\\OneDrive\\Desktop\\New folder (3)\\New folder\"+str(i)+\"op.jpg\", \"wb\")\n",
    "    file.write(response.content)\n"
   ]
  },
  {
   "cell_type": "code",
   "execution_count": 62,
   "metadata": {},
   "outputs": [],
   "source": [
    "driver=webdriver.Chrome(\"chromedriver.exe\") \n",
    "time.sleep(4)\n",
    "url = \"https://www.amazon.in/s?k=jeans+for+men&page=2&crid=2WZU22QAVHRCP&qid=1638623715&sprefix=jeans+%2Caps%2C326&ref=sr_pg_2\"\n",
    "driver.get(url)\n",
    "time.sleep(6)\n"
   ]
  },
  {
   "cell_type": "code",
   "execution_count": 63,
   "metadata": {},
   "outputs": [],
   "source": [
    "images = driver.find_elements_by_xpath('//img[@class=\"s-image\"]')"
   ]
  },
  {
   "cell_type": "code",
   "execution_count": 64,
   "metadata": {},
   "outputs": [],
   "source": [
    "img_urls = []\n",
    "img_data = []\n",
    "for image in images:\n",
    "    source= image.get_attribute('src')\n",
    "    if source is not None:\n",
    "        if(source[0:4] == 'http'):\n",
    "            img_urls.append(source)\n"
   ]
  },
  {
   "cell_type": "code",
   "execution_count": 65,
   "metadata": {},
   "outputs": [
    {
     "name": "stdout",
     "output_type": "stream",
     "text": [
      "Downloading 0 of 200 images\n",
      "Downloading 1 of 200 images\n",
      "Downloading 2 of 200 images\n",
      "Downloading 3 of 200 images\n",
      "Downloading 4 of 200 images\n",
      "Downloading 5 of 200 images\n",
      "Downloading 6 of 200 images\n",
      "Downloading 7 of 200 images\n",
      "Downloading 8 of 200 images\n",
      "Downloading 9 of 200 images\n",
      "Downloading 10 of 200 images\n",
      "Downloading 11 of 200 images\n",
      "Downloading 12 of 200 images\n",
      "Downloading 13 of 200 images\n",
      "Downloading 14 of 200 images\n",
      "Downloading 15 of 200 images\n",
      "Downloading 16 of 200 images\n",
      "Downloading 17 of 200 images\n",
      "Downloading 18 of 200 images\n",
      "Downloading 19 of 200 images\n",
      "Downloading 20 of 200 images\n",
      "Downloading 21 of 200 images\n",
      "Downloading 22 of 200 images\n",
      "Downloading 23 of 200 images\n",
      "Downloading 24 of 200 images\n",
      "Downloading 25 of 200 images\n",
      "Downloading 26 of 200 images\n",
      "Downloading 27 of 200 images\n",
      "Downloading 28 of 200 images\n",
      "Downloading 29 of 200 images\n",
      "Downloading 30 of 200 images\n",
      "Downloading 31 of 200 images\n",
      "Downloading 32 of 200 images\n",
      "Downloading 33 of 200 images\n",
      "Downloading 34 of 200 images\n",
      "Downloading 35 of 200 images\n",
      "Downloading 36 of 200 images\n",
      "Downloading 37 of 200 images\n",
      "Downloading 38 of 200 images\n",
      "Downloading 39 of 200 images\n",
      "Downloading 40 of 200 images\n",
      "Downloading 41 of 200 images\n",
      "Downloading 42 of 200 images\n",
      "Downloading 43 of 200 images\n",
      "Downloading 44 of 200 images\n",
      "Downloading 45 of 200 images\n",
      "Downloading 46 of 200 images\n",
      "Downloading 47 of 200 images\n",
      "Downloading 48 of 200 images\n",
      "Downloading 49 of 200 images\n",
      "Downloading 50 of 200 images\n",
      "Downloading 51 of 200 images\n",
      "Downloading 52 of 200 images\n",
      "Downloading 53 of 200 images\n",
      "Downloading 54 of 200 images\n",
      "Downloading 55 of 200 images\n",
      "Downloading 56 of 200 images\n",
      "Downloading 57 of 200 images\n",
      "Downloading 58 of 200 images\n",
      "Downloading 59 of 200 images\n"
     ]
    }
   ],
   "source": [
    "for i in range(len(img_urls)):\n",
    "    if i >= 200:\n",
    "        break\n",
    "    print(\"Downloading {0} of {1} images\" .format(i, 200))\n",
    "    response= requests.get(img_urls[i])\n",
    "    file = open(r\"C:\\Users\\SAGNIK DAS\\OneDrive\\Desktop\\New folder (3)\\New folder\"+str(i)+\"rs.jpg\", \"wb\")\n",
    "    file.write(response.content)\n"
   ]
  },
  {
   "cell_type": "code",
   "execution_count": 66,
   "metadata": {},
   "outputs": [],
   "source": [
    "driver=webdriver.Chrome(\"chromedriver.exe\") \n",
    "time.sleep(4)\n",
    "url = \"https://www.amazon.in/s?k=jeans+for+men&page=2&crid=2WZU22QAVHRCP&qid=1638623715&sprefix=jeans+%2Caps%2C326&ref=sr_pg_3\"\n",
    "driver.get(url)\n",
    "time.sleep(6)"
   ]
  },
  {
   "cell_type": "code",
   "execution_count": 67,
   "metadata": {},
   "outputs": [],
   "source": [
    "images = driver.find_elements_by_xpath('//img[@class=\"s-image\"]')"
   ]
  },
  {
   "cell_type": "code",
   "execution_count": 68,
   "metadata": {},
   "outputs": [],
   "source": [
    "img_urls = []\n",
    "img_data = []\n",
    "for image in images:\n",
    "    source= image.get_attribute('src')\n",
    "    if source is not None:\n",
    "        if(source[0:4] == 'http'):\n",
    "            img_urls.append(source)\n"
   ]
  },
  {
   "cell_type": "code",
   "execution_count": 69,
   "metadata": {},
   "outputs": [
    {
     "name": "stdout",
     "output_type": "stream",
     "text": [
      "Downloading 0 of 200 images\n",
      "Downloading 1 of 200 images\n",
      "Downloading 2 of 200 images\n",
      "Downloading 3 of 200 images\n",
      "Downloading 4 of 200 images\n",
      "Downloading 5 of 200 images\n",
      "Downloading 6 of 200 images\n",
      "Downloading 7 of 200 images\n",
      "Downloading 8 of 200 images\n",
      "Downloading 9 of 200 images\n",
      "Downloading 10 of 200 images\n",
      "Downloading 11 of 200 images\n",
      "Downloading 12 of 200 images\n",
      "Downloading 13 of 200 images\n",
      "Downloading 14 of 200 images\n",
      "Downloading 15 of 200 images\n",
      "Downloading 16 of 200 images\n",
      "Downloading 17 of 200 images\n",
      "Downloading 18 of 200 images\n",
      "Downloading 19 of 200 images\n",
      "Downloading 20 of 200 images\n",
      "Downloading 21 of 200 images\n",
      "Downloading 22 of 200 images\n",
      "Downloading 23 of 200 images\n",
      "Downloading 24 of 200 images\n",
      "Downloading 25 of 200 images\n",
      "Downloading 26 of 200 images\n",
      "Downloading 27 of 200 images\n",
      "Downloading 28 of 200 images\n",
      "Downloading 29 of 200 images\n",
      "Downloading 30 of 200 images\n",
      "Downloading 31 of 200 images\n",
      "Downloading 32 of 200 images\n",
      "Downloading 33 of 200 images\n",
      "Downloading 34 of 200 images\n",
      "Downloading 35 of 200 images\n",
      "Downloading 36 of 200 images\n",
      "Downloading 37 of 200 images\n",
      "Downloading 38 of 200 images\n",
      "Downloading 39 of 200 images\n",
      "Downloading 40 of 200 images\n",
      "Downloading 41 of 200 images\n",
      "Downloading 42 of 200 images\n",
      "Downloading 43 of 200 images\n",
      "Downloading 44 of 200 images\n",
      "Downloading 45 of 200 images\n",
      "Downloading 46 of 200 images\n",
      "Downloading 47 of 200 images\n",
      "Downloading 48 of 200 images\n",
      "Downloading 49 of 200 images\n",
      "Downloading 50 of 200 images\n",
      "Downloading 51 of 200 images\n",
      "Downloading 52 of 200 images\n",
      "Downloading 53 of 200 images\n",
      "Downloading 54 of 200 images\n",
      "Downloading 55 of 200 images\n",
      "Downloading 56 of 200 images\n",
      "Downloading 57 of 200 images\n",
      "Downloading 58 of 200 images\n",
      "Downloading 59 of 200 images\n"
     ]
    }
   ],
   "source": [
    "for i in range(len(img_urls)):\n",
    "    if i >= 200:\n",
    "        break\n",
    "    print(\"Downloading {0} of {1} images\" .format(i, 200))\n",
    "    response= requests.get(img_urls[i])\n",
    "    file = open(r\"C:\\Users\\SAGNIK DAS\\OneDrive\\Desktop\\New folder (3)\\New folder\"+str(i)+\"st.jpg\", \"wb\")\n",
    "    file.write(response.content)\n"
   ]
  },
  {
   "cell_type": "code",
   "execution_count": 70,
   "metadata": {},
   "outputs": [],
   "source": [
    "driver=webdriver.Chrome(\"chromedriver.exe\") \n",
    "time.sleep(4)\n",
    "url = \"https://www.flipkart.com/search?q=jeans&sid=clo%2Cvua%2Ck58%2Ci51&as=on&as-show=on&otracker=AS_QueryStore_OrganicAutoSuggest_1_3_na_na_na&otracker1=AS_QueryStore_OrganicAutoSuggest_1_3_na_na_na&as-pos=1&as-type=RECENT&suggestionId=jeans%7CMen%27s+Jeans&requestId=f49db79e-1bd7-40d7-8f92-cb4721ae3bb5&as-searchtext=jea\"\n",
    "driver.get(url)\n",
    "time.sleep(6)"
   ]
  },
  {
   "cell_type": "code",
   "execution_count": 71,
   "metadata": {},
   "outputs": [],
   "source": [
    "images = driver.find_elements_by_xpath('//img[@class=\"_2r_T1I\"]')"
   ]
  },
  {
   "cell_type": "code",
   "execution_count": 72,
   "metadata": {},
   "outputs": [],
   "source": [
    "img_urls = []\n",
    "img_data = []\n",
    "for image in images:\n",
    "    source= image.get_attribute('src')\n",
    "    if source is not None:\n",
    "        if(source[0:4] == 'http'):\n",
    "            img_urls.append(source)\n"
   ]
  },
  {
   "cell_type": "code",
   "execution_count": 73,
   "metadata": {},
   "outputs": [
    {
     "name": "stdout",
     "output_type": "stream",
     "text": [
      "Downloading 0 of 200 images\n",
      "Downloading 1 of 200 images\n",
      "Downloading 2 of 200 images\n",
      "Downloading 3 of 200 images\n",
      "Downloading 4 of 200 images\n",
      "Downloading 5 of 200 images\n",
      "Downloading 6 of 200 images\n",
      "Downloading 7 of 200 images\n",
      "Downloading 8 of 200 images\n",
      "Downloading 9 of 200 images\n",
      "Downloading 10 of 200 images\n",
      "Downloading 11 of 200 images\n",
      "Downloading 12 of 200 images\n",
      "Downloading 13 of 200 images\n",
      "Downloading 14 of 200 images\n",
      "Downloading 15 of 200 images\n",
      "Downloading 16 of 200 images\n",
      "Downloading 17 of 200 images\n",
      "Downloading 18 of 200 images\n",
      "Downloading 19 of 200 images\n",
      "Downloading 20 of 200 images\n",
      "Downloading 21 of 200 images\n",
      "Downloading 22 of 200 images\n",
      "Downloading 23 of 200 images\n",
      "Downloading 24 of 200 images\n",
      "Downloading 25 of 200 images\n",
      "Downloading 26 of 200 images\n",
      "Downloading 27 of 200 images\n",
      "Downloading 28 of 200 images\n",
      "Downloading 29 of 200 images\n",
      "Downloading 30 of 200 images\n",
      "Downloading 31 of 200 images\n",
      "Downloading 32 of 200 images\n",
      "Downloading 33 of 200 images\n",
      "Downloading 34 of 200 images\n",
      "Downloading 35 of 200 images\n",
      "Downloading 36 of 200 images\n",
      "Downloading 37 of 200 images\n",
      "Downloading 38 of 200 images\n",
      "Downloading 39 of 200 images\n"
     ]
    }
   ],
   "source": [
    "for i in range(len(img_urls)):\n",
    "    if i >= 200:\n",
    "        break\n",
    "    print(\"Downloading {0} of {1} images\" .format(i, 200))\n",
    "    response= requests.get(img_urls[i])\n",
    "    file = open(r\"C:\\Users\\SAGNIK DAS\\OneDrive\\Desktop\\New folder (3)\\New folder\"+str(i)+\"s.jpg\", \"wb\")\n",
    "    file.write(response.content)\n"
   ]
  },
  {
   "cell_type": "code",
   "execution_count": 74,
   "metadata": {},
   "outputs": [],
   "source": [
    "driver=webdriver.Chrome(\"chromedriver.exe\") \n",
    "time.sleep(4)\n",
    "url = \"https://www.flipkart.com/search?q=jeans&sid=clo%2Cvua%2Ck58%2Ci51&as=on&as-show=on&otracker=AS_QueryStore_OrganicAutoSuggest_1_3_na_na_na&otracker1=AS_QueryStore_OrganicAutoSuggest_1_3_na_na_na&as-pos=1&as-type=RECENT&suggestionId=jeans%7CMen%27s+Jeans&requestId=f49db79e-1bd7-40d7-8f92-cb4721ae3bb5&as-searchtext=jea&page=2\"\n",
    "driver.get(url)\n",
    "time.sleep(6)"
   ]
  },
  {
   "cell_type": "code",
   "execution_count": 75,
   "metadata": {},
   "outputs": [],
   "source": [
    "images = driver.find_elements_by_xpath('//img[@class=\"_2r_T1I\"]')"
   ]
  },
  {
   "cell_type": "code",
   "execution_count": 76,
   "metadata": {},
   "outputs": [],
   "source": [
    "img_urls = []\n",
    "img_data = []\n",
    "for image in images:\n",
    "    source= image.get_attribute('src')\n",
    "    if source is not None:\n",
    "        if(source[0:4] == 'http'):\n",
    "            img_urls.append(source)\n"
   ]
  },
  {
   "cell_type": "code",
   "execution_count": 77,
   "metadata": {},
   "outputs": [
    {
     "name": "stdout",
     "output_type": "stream",
     "text": [
      "Downloading 0 of 200 images\n",
      "Downloading 1 of 200 images\n",
      "Downloading 2 of 200 images\n",
      "Downloading 3 of 200 images\n",
      "Downloading 4 of 200 images\n",
      "Downloading 5 of 200 images\n",
      "Downloading 6 of 200 images\n",
      "Downloading 7 of 200 images\n",
      "Downloading 8 of 200 images\n",
      "Downloading 9 of 200 images\n",
      "Downloading 10 of 200 images\n",
      "Downloading 11 of 200 images\n",
      "Downloading 12 of 200 images\n",
      "Downloading 13 of 200 images\n",
      "Downloading 14 of 200 images\n",
      "Downloading 15 of 200 images\n",
      "Downloading 16 of 200 images\n",
      "Downloading 17 of 200 images\n",
      "Downloading 18 of 200 images\n",
      "Downloading 19 of 200 images\n",
      "Downloading 20 of 200 images\n",
      "Downloading 21 of 200 images\n",
      "Downloading 22 of 200 images\n",
      "Downloading 23 of 200 images\n",
      "Downloading 24 of 200 images\n",
      "Downloading 25 of 200 images\n",
      "Downloading 26 of 200 images\n",
      "Downloading 27 of 200 images\n",
      "Downloading 28 of 200 images\n",
      "Downloading 29 of 200 images\n",
      "Downloading 30 of 200 images\n",
      "Downloading 31 of 200 images\n",
      "Downloading 32 of 200 images\n",
      "Downloading 33 of 200 images\n",
      "Downloading 34 of 200 images\n",
      "Downloading 35 of 200 images\n",
      "Downloading 36 of 200 images\n",
      "Downloading 37 of 200 images\n",
      "Downloading 38 of 200 images\n",
      "Downloading 39 of 200 images\n"
     ]
    }
   ],
   "source": [
    "for i in range(len(img_urls)):\n",
    "    if i >= 200:\n",
    "        break\n",
    "    print(\"Downloading {0} of {1} images\" .format(i, 200))\n",
    "    response= requests.get(img_urls[i])\n",
    "    file = open(r\"C:\\Users\\SAGNIK DAS\\OneDrive\\Desktop\\New folder (3)\\New folder\"+str(i)+\"rst.jpg\", \"wb\")\n",
    "    file.write(response.content)\n"
   ]
  },
  {
   "cell_type": "code",
   "execution_count": 78,
   "metadata": {},
   "outputs": [],
   "source": [
    "driver=webdriver.Chrome(\"chromedriver.exe\") \n",
    "time.sleep(4)\n",
    "url = \"https://www.flipkart.com/search?q=jeans&sid=clo%2Cvua%2Ck58%2Ci51&as=on&as-show=on&otracker=AS_QueryStore_OrganicAutoSuggest_1_3_na_na_na&otracker1=AS_QueryStore_OrganicAutoSuggest_1_3_na_na_na&as-pos=1&as-type=RECENT&suggestionId=jeans%7CMen%27s+Jeans&requestId=f49db79e-1bd7-40d7-8f92-cb4721ae3bb5&as-searchtext=jea&page=3\"\n",
    "driver.get(url)\n",
    "time.sleep(6)"
   ]
  },
  {
   "cell_type": "code",
   "execution_count": 79,
   "metadata": {},
   "outputs": [],
   "source": [
    "images = driver.find_elements_by_xpath('//img[@class=\"_2r_T1I\"]')"
   ]
  },
  {
   "cell_type": "code",
   "execution_count": 80,
   "metadata": {},
   "outputs": [],
   "source": [
    "img_urls = []\n",
    "img_data = []\n",
    "for image in images:\n",
    "    source= image.get_attribute('src')\n",
    "    if source is not None:\n",
    "        if(source[0:4] == 'http'):\n",
    "            img_urls.append(source)\n"
   ]
  },
  {
   "cell_type": "code",
   "execution_count": 81,
   "metadata": {},
   "outputs": [
    {
     "name": "stdout",
     "output_type": "stream",
     "text": [
      "Downloading 0 of 200 images\n",
      "Downloading 1 of 200 images\n",
      "Downloading 2 of 200 images\n",
      "Downloading 3 of 200 images\n",
      "Downloading 4 of 200 images\n",
      "Downloading 5 of 200 images\n",
      "Downloading 6 of 200 images\n",
      "Downloading 7 of 200 images\n",
      "Downloading 8 of 200 images\n",
      "Downloading 9 of 200 images\n",
      "Downloading 10 of 200 images\n",
      "Downloading 11 of 200 images\n",
      "Downloading 12 of 200 images\n",
      "Downloading 13 of 200 images\n",
      "Downloading 14 of 200 images\n",
      "Downloading 15 of 200 images\n",
      "Downloading 16 of 200 images\n",
      "Downloading 17 of 200 images\n",
      "Downloading 18 of 200 images\n",
      "Downloading 19 of 200 images\n",
      "Downloading 20 of 200 images\n",
      "Downloading 21 of 200 images\n",
      "Downloading 22 of 200 images\n",
      "Downloading 23 of 200 images\n",
      "Downloading 24 of 200 images\n",
      "Downloading 25 of 200 images\n",
      "Downloading 26 of 200 images\n",
      "Downloading 27 of 200 images\n",
      "Downloading 28 of 200 images\n",
      "Downloading 29 of 200 images\n",
      "Downloading 30 of 200 images\n",
      "Downloading 31 of 200 images\n",
      "Downloading 32 of 200 images\n",
      "Downloading 33 of 200 images\n",
      "Downloading 34 of 200 images\n",
      "Downloading 35 of 200 images\n",
      "Downloading 36 of 200 images\n",
      "Downloading 37 of 200 images\n",
      "Downloading 38 of 200 images\n",
      "Downloading 39 of 200 images\n"
     ]
    }
   ],
   "source": [
    "for i in range(len(img_urls)):\n",
    "    if i >= 200:\n",
    "        break\n",
    "    print(\"Downloading {0} of {1} images\" .format(i, 200))\n",
    "    response= requests.get(img_urls[i])\n",
    "    file = open(r\"C:\\Users\\SAGNIK DAS\\OneDrive\\Desktop\\New folder (3)\\New folder\"+str(i)+\"sd.jpg\", \"wb\")\n",
    "    file.write(response.content)\n"
   ]
  },
  {
   "cell_type": "code",
   "execution_count": null,
   "metadata": {},
   "outputs": [],
   "source": []
  },
  {
   "cell_type": "code",
   "execution_count": 1,
   "metadata": {},
   "outputs": [
    {
     "name": "stdout",
     "output_type": "stream",
     "text": [
      "Requirement already satisfied: tensorflow in c:\\users\\sagnik das\\anaconda3\\lib\\site-packages (2.7.0)\n",
      "Requirement already satisfied: wheel<1.0,>=0.32.0 in c:\\users\\sagnik das\\anaconda3\\lib\\site-packages (from tensorflow) (0.35.1)\n",
      "Requirement already satisfied: keras<2.8,>=2.7.0rc0 in c:\\users\\sagnik das\\anaconda3\\lib\\site-packages (from tensorflow) (2.7.0)\n",
      "Requirement already satisfied: protobuf>=3.9.2 in c:\\users\\sagnik das\\anaconda3\\lib\\site-packages (from tensorflow) (3.19.1)\n",
      "Requirement already satisfied: gast<0.5.0,>=0.2.1 in c:\\users\\sagnik das\\anaconda3\\lib\\site-packages (from tensorflow) (0.4.0)\n",
      "Requirement already satisfied: termcolor>=1.1.0 in c:\\users\\sagnik das\\anaconda3\\lib\\site-packages (from tensorflow) (1.1.0)\n",
      "Requirement already satisfied: flatbuffers<3.0,>=1.12 in c:\\users\\sagnik das\\anaconda3\\lib\\site-packages (from tensorflow) (2.0)\n",
      "Requirement already satisfied: tensorflow-io-gcs-filesystem>=0.21.0 in c:\\users\\sagnik das\\anaconda3\\lib\\site-packages (from tensorflow) (0.22.0)\n",
      "Requirement already satisfied: h5py>=2.9.0 in c:\\users\\sagnik das\\anaconda3\\lib\\site-packages (from tensorflow) (2.10.0)\n",
      "Requirement already satisfied: grpcio<2.0,>=1.24.3 in c:\\users\\sagnik das\\anaconda3\\lib\\site-packages (from tensorflow) (1.42.0)\n",
      "Requirement already satisfied: libclang>=9.0.1 in c:\\users\\sagnik das\\anaconda3\\lib\\site-packages (from tensorflow) (12.0.0)\n",
      "Requirement already satisfied: keras-preprocessing>=1.1.1 in c:\\users\\sagnik das\\anaconda3\\lib\\site-packages (from tensorflow) (1.1.2)\n",
      "Requirement already satisfied: absl-py>=0.4.0 in c:\\users\\sagnik das\\anaconda3\\lib\\site-packages (from tensorflow) (1.0.0)\n",
      "Requirement already satisfied: tensorboard~=2.6 in c:\\users\\sagnik das\\anaconda3\\lib\\site-packages (from tensorflow) (2.7.0)\n",
      "Requirement already satisfied: opt-einsum>=2.3.2 in c:\\users\\sagnik das\\anaconda3\\lib\\site-packages (from tensorflow) (3.3.0)\n",
      "Requirement already satisfied: typing-extensions>=3.6.6 in c:\\users\\sagnik das\\anaconda3\\lib\\site-packages (from tensorflow) (3.7.4.3)\n",
      "Requirement already satisfied: astunparse>=1.6.0 in c:\\users\\sagnik das\\anaconda3\\lib\\site-packages (from tensorflow) (1.6.3)\n",
      "Requirement already satisfied: wrapt>=1.11.0 in c:\\users\\sagnik das\\anaconda3\\lib\\site-packages (from tensorflow) (1.11.2)\n",
      "Requirement already satisfied: google-pasta>=0.1.1 in c:\\users\\sagnik das\\anaconda3\\lib\\site-packages (from tensorflow) (0.2.0)\n",
      "Requirement already satisfied: six>=1.12.0 in c:\\users\\sagnik das\\anaconda3\\lib\\site-packages (from tensorflow) (1.15.0)\n",
      "Requirement already satisfied: tensorflow-estimator<2.8,~=2.7.0rc0 in c:\\users\\sagnik das\\anaconda3\\lib\\site-packages (from tensorflow) (2.7.0)\n",
      "Requirement already satisfied: numpy>=1.14.5 in c:\\users\\sagnik das\\anaconda3\\lib\\site-packages (from tensorflow) (1.19.2)\n",
      "Requirement already satisfied: markdown>=2.6.8 in c:\\users\\sagnik das\\anaconda3\\lib\\site-packages (from tensorboard~=2.6->tensorflow) (3.3.6)\n",
      "Requirement already satisfied: tensorboard-plugin-wit>=1.6.0 in c:\\users\\sagnik das\\anaconda3\\lib\\site-packages (from tensorboard~=2.6->tensorflow) (1.8.0)\n",
      "Requirement already satisfied: google-auth<3,>=1.6.3 in c:\\users\\sagnik das\\anaconda3\\lib\\site-packages (from tensorboard~=2.6->tensorflow) (2.3.3)\n",
      "Requirement already satisfied: werkzeug>=0.11.15 in c:\\users\\sagnik das\\anaconda3\\lib\\site-packages (from tensorboard~=2.6->tensorflow) (1.0.1)\n",
      "Requirement already satisfied: setuptools>=41.0.0 in c:\\users\\sagnik das\\anaconda3\\lib\\site-packages (from tensorboard~=2.6->tensorflow) (50.3.1.post20201107)\n",
      "Requirement already satisfied: tensorboard-data-server<0.7.0,>=0.6.0 in c:\\users\\sagnik das\\anaconda3\\lib\\site-packages (from tensorboard~=2.6->tensorflow) (0.6.1)\n",
      "Requirement already satisfied: google-auth-oauthlib<0.5,>=0.4.1 in c:\\users\\sagnik das\\anaconda3\\lib\\site-packages (from tensorboard~=2.6->tensorflow) (0.4.6)\n",
      "Requirement already satisfied: requests<3,>=2.21.0 in c:\\users\\sagnik das\\anaconda3\\lib\\site-packages (from tensorboard~=2.6->tensorflow) (2.24.0)\n",
      "Requirement already satisfied: importlib-metadata>=4.4; python_version < \"3.10\" in c:\\users\\sagnik das\\anaconda3\\lib\\site-packages (from markdown>=2.6.8->tensorboard~=2.6->tensorflow) (4.8.2)\n",
      "Requirement already satisfied: pyasn1-modules>=0.2.1 in c:\\users\\sagnik das\\anaconda3\\lib\\site-packages (from google-auth<3,>=1.6.3->tensorboard~=2.6->tensorflow) (0.2.8)\n",
      "Requirement already satisfied: cachetools<5.0,>=2.0.0 in c:\\users\\sagnik das\\anaconda3\\lib\\site-packages (from google-auth<3,>=1.6.3->tensorboard~=2.6->tensorflow) (4.2.4)\n",
      "Requirement already satisfied: rsa<5,>=3.1.4; python_version >= \"3.6\" in c:\\users\\sagnik das\\anaconda3\\lib\\site-packages (from google-auth<3,>=1.6.3->tensorboard~=2.6->tensorflow) (4.8)\n",
      "Requirement already satisfied: requests-oauthlib>=0.7.0 in c:\\users\\sagnik das\\anaconda3\\lib\\site-packages (from google-auth-oauthlib<0.5,>=0.4.1->tensorboard~=2.6->tensorflow) (1.3.0)\n",
      "Requirement already satisfied: certifi>=2017.4.17 in c:\\users\\sagnik das\\anaconda3\\lib\\site-packages (from requests<3,>=2.21.0->tensorboard~=2.6->tensorflow) (2020.6.20)\n",
      "Requirement already satisfied: chardet<4,>=3.0.2 in c:\\users\\sagnik das\\anaconda3\\lib\\site-packages (from requests<3,>=2.21.0->tensorboard~=2.6->tensorflow) (3.0.4)\n",
      "Requirement already satisfied: idna<3,>=2.5 in c:\\users\\sagnik das\\anaconda3\\lib\\site-packages (from requests<3,>=2.21.0->tensorboard~=2.6->tensorflow) (2.10)\n",
      "Requirement already satisfied: urllib3!=1.25.0,!=1.25.1,<1.26,>=1.21.1 in c:\\users\\sagnik das\\anaconda3\\lib\\site-packages (from requests<3,>=2.21.0->tensorboard~=2.6->tensorflow) (1.25.11)\n",
      "Requirement already satisfied: zipp>=0.5 in c:\\users\\sagnik das\\anaconda3\\lib\\site-packages (from importlib-metadata>=4.4; python_version < \"3.10\"->markdown>=2.6.8->tensorboard~=2.6->tensorflow) (3.4.0)\n",
      "Requirement already satisfied: pyasn1<0.5.0,>=0.4.6 in c:\\users\\sagnik das\\anaconda3\\lib\\site-packages (from pyasn1-modules>=0.2.1->google-auth<3,>=1.6.3->tensorboard~=2.6->tensorflow) (0.4.8)\n",
      "Requirement already satisfied: oauthlib>=3.0.0 in c:\\users\\sagnik das\\anaconda3\\lib\\site-packages (from requests-oauthlib>=0.7.0->google-auth-oauthlib<0.5,>=0.4.1->tensorboard~=2.6->tensorflow) (3.1.1)\n"
     ]
    }
   ],
   "source": [
    "! pip install tensorflow"
   ]
  },
  {
   "cell_type": "code",
   "execution_count": 2,
   "metadata": {},
   "outputs": [],
   "source": [
    "import tensorflow as tf\n",
    "from tensorflow import keras"
   ]
  },
  {
   "cell_type": "code",
   "execution_count": 91,
   "metadata": {},
   "outputs": [],
   "source": [
    "import numpy as np\n",
    "import matplotlib.pyplot as plt"
   ]
  },
  {
   "cell_type": "code",
   "execution_count": 95,
   "metadata": {},
   "outputs": [],
   "source": [
    "fashion_mnist = keras.datasets.fashion_mnist"
   ]
  },
  {
   "cell_type": "code",
   "execution_count": 7,
   "metadata": {},
   "outputs": [
    {
     "name": "stdout",
     "output_type": "stream",
     "text": [
      "Downloading data from https://storage.googleapis.com/tensorflow/tf-keras-datasets/train-labels-idx1-ubyte.gz\n",
      "32768/29515 [=================================] - 0s 5us/step\n",
      "40960/29515 [=========================================] - 0s 4us/step\n",
      "Downloading data from https://storage.googleapis.com/tensorflow/tf-keras-datasets/train-images-idx3-ubyte.gz\n",
      "26427392/26421880 [==============================] - 7s 0us/step\n",
      "26435584/26421880 [==============================] - 7s 0us/step\n",
      "Downloading data from https://storage.googleapis.com/tensorflow/tf-keras-datasets/t10k-labels-idx1-ubyte.gz\n",
      "16384/5148 [===============================================================================================] - 0s 0s/step\n",
      "Downloading data from https://storage.googleapis.com/tensorflow/tf-keras-datasets/t10k-images-idx3-ubyte.gz\n",
      "4423680/4422102 [==============================] - 1s 0us/step\n",
      "4431872/4422102 [==============================] - 1s 0us/step\n"
     ]
    }
   ],
   "source": [
    "(train_images, train_labels), (test_images, test_labels) = fashion_mnist.load_data()"
   ]
  },
  {
   "cell_type": "code",
   "execution_count": 8,
   "metadata": {},
   "outputs": [],
   "source": [
    "class_names = ['saree', 'trousers', 'jeans']"
   ]
  },
  {
   "cell_type": "code",
   "execution_count": 9,
   "metadata": {},
   "outputs": [
    {
     "data": {
      "text/plain": [
       "(60000, 28, 28)"
      ]
     },
     "execution_count": 9,
     "metadata": {},
     "output_type": "execute_result"
    }
   ],
   "source": [
    "train_images.shape"
   ]
  },
  {
   "cell_type": "code",
   "execution_count": 10,
   "metadata": {},
   "outputs": [
    {
     "data": {
      "text/plain": [
       "60000"
      ]
     },
     "execution_count": 10,
     "metadata": {},
     "output_type": "execute_result"
    }
   ],
   "source": [
    "len(train_labels)"
   ]
  },
  {
   "cell_type": "code",
   "execution_count": 11,
   "metadata": {},
   "outputs": [
    {
     "data": {
      "text/plain": [
       "array([9, 0, 0, ..., 3, 0, 5], dtype=uint8)"
      ]
     },
     "execution_count": 11,
     "metadata": {},
     "output_type": "execute_result"
    }
   ],
   "source": [
    "train_labels"
   ]
  },
  {
   "cell_type": "code",
   "execution_count": 12,
   "metadata": {},
   "outputs": [
    {
     "data": {
      "text/plain": [
       "(10000, 28, 28)"
      ]
     },
     "execution_count": 12,
     "metadata": {},
     "output_type": "execute_result"
    }
   ],
   "source": [
    "test_images.shape"
   ]
  },
  {
   "cell_type": "code",
   "execution_count": 13,
   "metadata": {},
   "outputs": [
    {
     "data": {
      "text/plain": [
       "10000"
      ]
     },
     "execution_count": 13,
     "metadata": {},
     "output_type": "execute_result"
    }
   ],
   "source": [
    "len(test_labels)"
   ]
  },
  {
   "cell_type": "code",
   "execution_count": 14,
   "metadata": {},
   "outputs": [
    {
     "data": {
      "image/png": "[encoded data removed]",
      "text/plain": [
       "<Figure size 432x288 with 2 Axes>"
      ]
     },
     "metadata": {
      "needs_background": "light"
     },
     "output_type": "display_data"
    }
   ],
   "source": [
    "plt.figure()\n",
    "plt.imshow(train_images[0])\n",
    "plt.colorbar()\n",
    "plt.grid(False)\n",
    "plt.show()"
   ]
  },
  {
   "cell_type": "code",
   "execution_count": 17,
   "metadata": {},
   "outputs": [],
   "source": [
    "train_images = train_images / 255.0\n",
    "test_images = test_images / 255.0"
   ]
  },
  {
   "cell_type": "code",
   "execution_count": 24,
   "metadata": {},
   "outputs": [
    {
     "data": {
      "image/png": "[encoded data removed]",
      "text/plain": [
       "<Figure size 720x720 with 25 Axes>"
      ]
     },
     "metadata": {},
     "output_type": "display_data"
    }
   ],
   "source": [
    "plt.figure(figsize=(10,10))\n",
    "for i in range(25):\n",
    "    plt.subplot(5,5,i+1)\n",
    "    plt.xticks([])\n",
    "    plt.yticks([])\n",
    "    plt.grid(False)\n",
    "    plt.imshow(train_images[1], cmap=plt.cm.binary)\n",
    "    plt.xlabel(class_names[train_labels[1]])\n",
    "plt.show()"
   ]
  },
  {
   "cell_type": "code",
   "execution_count": 25,
   "metadata": {},
   "outputs": [],
   "source": [
    "model = keras.Sequential([\n",
    "    keras.layers.Flatten(input_shape=(28, 28)),\n",
    "    keras.layers.Dense(128, activation=tf.nn.relu),\n",
    "    keras.layers.Dense(10, activation=tf.nn.softmax)\n",
    "])"
   ]
  },
  {
   "cell_type": "code",
   "execution_count": 30,
   "metadata": {},
   "outputs": [],
   "source": [
    "#model.compile(optimizer='adam',\n",
    "              #loss='sparse_catagorical_crossentropy',\n",
    "              #matrics=['accuracy'])\n",
    "model.compile(optimizer='adam',\n",
    "              loss=tf.keras.losses.SparseCategoricalCrossentropy(from_logits=True),\n",
    "              metrics=['accuracy'])        "
   ]
  },
  {
   "cell_type": "code",
   "execution_count": 31,
   "metadata": {},
   "outputs": [
    {
     "name": "stdout",
     "output_type": "stream",
     "text": [
      "Epoch 1/10\n",
      "1875/1875 [==============================] - 3s 2ms/step - loss: 1.7732 - accuracy: 0.6946\n",
      "Epoch 2/10\n",
      "1875/1875 [==============================] - 2s 1ms/step - loss: 1.6831 - accuracy: 0.7797\n",
      "Epoch 3/10\n",
      "1875/1875 [==============================] - 3s 2ms/step - loss: 1.6644 - accuracy: 0.7975\n",
      "Epoch 4/10\n",
      "1875/1875 [==============================] - 4s 2ms/step - loss: 1.6567 - accuracy: 0.8048\n",
      "Epoch 5/10\n",
      "1875/1875 [==============================] - 4s 2ms/step - loss: 1.6527 - accuracy: 0.8094\n",
      "Epoch 6/10\n",
      "1875/1875 [==============================] - 4s 2ms/step - loss: 1.6488 - accuracy: 0.8126\n",
      "Epoch 7/10\n",
      "1875/1875 [==============================] - 3s 2ms/step - loss: 1.6462 - accuracy: 0.8157\n",
      "Epoch 8/10\n",
      "1875/1875 [==============================] - 3s 2ms/step - loss: 1.6445 - accuracy: 0.8168\n",
      "Epoch 9/10\n",
      "1875/1875 [==============================] - 3s 2ms/step - loss: 1.6406 - accuracy: 0.8208\n",
      "Epoch 10/10\n",
      "1875/1875 [==============================] - 2s 1ms/step - loss: 1.6390 - accuracy: 0.8225\n"
     ]
    },
    {
     "data": {
      "text/plain": [
       "<keras.callbacks.History at 0x1c99c645df0>"
      ]
     },
     "execution_count": 31,
     "metadata": {},
     "output_type": "execute_result"
    }
   ],
   "source": [
    "model.fit(train_images, train_labels, epochs=10)"
   ]
  },
  {
   "cell_type": "code",
   "execution_count": 32,
   "metadata": {},
   "outputs": [
    {
     "name": "stdout",
     "output_type": "stream",
     "text": [
      "313/313 [==============================] - 1s 2ms/step - loss: 1.6593 - accuracy: 0.8010\n",
      "Test accuracy 0.8009999990463257\n"
     ]
    }
   ],
   "source": [
    "test_loss, test_acc = model.evaluate(test_images,  test_labels)\n",
    "print('Test accuracy', test_acc)"
   ]
  },
  {
   "cell_type": "code",
   "execution_count": 34,
   "metadata": {},
   "outputs": [],
   "source": [
    "predictions = model.predict(test_images)"
   ]
  },
  {
   "cell_type": "code",
   "execution_count": 35,
   "metadata": {},
   "outputs": [
    {
     "data": {
      "text/plain": [
       "array([5.01714759e-14, 1.26973352e-15, 1.50202702e-12, 7.15677111e-15,\n",
       "       1.43899284e-17, 2.73261576e-05, 1.00314864e-13, 3.01995229e-08,\n",
       "       2.38705370e-14, 9.99972701e-01], dtype=float32)"
      ]
     },
     "execution_count": 35,
     "metadata": {},
     "output_type": "execute_result"
    }
   ],
   "source": [
    "predictions[0]"
   ]
  },
  {
   "cell_type": "code",
   "execution_count": 69,
   "metadata": {},
   "outputs": [
    {
     "data": {
      "text/plain": [
       "9"
      ]
     },
     "execution_count": 69,
     "metadata": {},
     "output_type": "execute_result"
    }
   ],
   "source": [
    "np.argmax(predictions[0])"
   ]
  },
  {
   "cell_type": "code",
   "execution_count": 70,
   "metadata": {},
   "outputs": [
    {
     "data": {
      "text/plain": [
       "9"
      ]
     },
     "execution_count": 70,
     "metadata": {},
     "output_type": "execute_result"
    }
   ],
   "source": [
    "test_labels[0]"
   ]
  },
  {
   "cell_type": "code",
   "execution_count": 71,
   "metadata": {},
   "outputs": [],
   "source": [
    "def plot_image(i, predictions_array, true_label, img):\n",
    "    predictions_array, true_label, img = predictions_array[1], true_label[1], img[1]\n",
    "    plt.grid(False)\n",
    "    plt.xticks([])\n",
    "    plt.yticks([])\n",
    "    \n",
    "    plt.imshow(img, cmap=plt.cm.binary)\n",
    "    \n",
    "    \n",
    "    predicted_label = np.argmax(predictions_array)\n",
    "    \n",
    "    if predicted_label == true_label:\n",
    "        color = 'blue'\n",
    "    else:\n",
    "        color = 'red'\n",
    "        \n",
    "    plt.xlabel(\"{} {:2.0f} ({})\".format(class_names[predicted_label],\n",
    "                                 100*np.max(predictions_array),\n",
    "                                 class_names[true_label]),\n",
    "                                 color=color) \n",
    "                                  \n",
    "    \n",
    "def plot_value_array(i, predictions_array, true_label):\n",
    "    predictions_array, true_label = predictions_array[1], true_label[1]\n",
    "    plt.grid(False)\n",
    "    plt.xticks([])\n",
    "    plt.yticks([])    \n",
    "    thisplot = plt.bar(range(10), predictions_array, color=\"#777777\")\n",
    "    plt.ylim([0, 1])\n",
    "        \n",
    "    thisplot[predicted_label].set_color('red')\n",
    "    thisplot[true_label].set_color('green')"
   ]
  },
  {
   "cell_type": "code",
   "execution_count": 72,
   "metadata": {},
   "outputs": [
    {
     "ename": "NameError",
     "evalue": "name 'predicted_label' is not defined",
     "output_type": "error",
     "traceback": [
      "\u001b[1;31m---------------------------------------------------------------------------\u001b[0m",
      "\u001b[1;31mNameError\u001b[0m                                 Traceback (most recent call last)",
      "\u001b[1;32m<ipython-input-72-e636c39f4ea8>\u001b[0m in \u001b[0;36m<module>\u001b[1;34m\u001b[0m\n\u001b[0;32m      4\u001b[0m \u001b[0mplot_image\u001b[0m\u001b[1;33m(\u001b[0m\u001b[0mi\u001b[0m\u001b[1;33m,\u001b[0m \u001b[0mpredictions\u001b[0m\u001b[1;33m,\u001b[0m \u001b[0mtest_labels\u001b[0m\u001b[1;33m,\u001b[0m \u001b[0mtest_images\u001b[0m\u001b[1;33m)\u001b[0m\u001b[1;33m\u001b[0m\u001b[1;33m\u001b[0m\u001b[0m\n\u001b[0;32m      5\u001b[0m \u001b[0mplt\u001b[0m\u001b[1;33m.\u001b[0m\u001b[0msubplot\u001b[0m\u001b[1;33m(\u001b[0m\u001b[1;36m1\u001b[0m\u001b[1;33m,\u001b[0m\u001b[1;36m2\u001b[0m\u001b[1;33m,\u001b[0m\u001b[1;36m2\u001b[0m\u001b[1;33m)\u001b[0m\u001b[1;33m\u001b[0m\u001b[1;33m\u001b[0m\u001b[0m\n\u001b[1;32m----> 6\u001b[1;33m \u001b[0mplot_value_array\u001b[0m\u001b[1;33m(\u001b[0m\u001b[0mi\u001b[0m\u001b[1;33m,\u001b[0m \u001b[0mpredictions\u001b[0m\u001b[1;33m,\u001b[0m \u001b[0mtest_labels\u001b[0m\u001b[1;33m)\u001b[0m\u001b[1;33m\u001b[0m\u001b[1;33m\u001b[0m\u001b[0m\n\u001b[0m\u001b[0;32m      7\u001b[0m \u001b[0mplt\u001b[0m\u001b[1;33m.\u001b[0m\u001b[0mshow\u001b[0m\u001b[1;33m(\u001b[0m\u001b[1;33m)\u001b[0m\u001b[1;33m\u001b[0m\u001b[1;33m\u001b[0m\u001b[0m\n",
      "\u001b[1;32m<ipython-input-71-e2f8f61f11e1>\u001b[0m in \u001b[0;36mplot_value_array\u001b[1;34m(i, predictions_array, true_label)\u001b[0m\n\u001b[0;32m     29\u001b[0m     \u001b[0mplt\u001b[0m\u001b[1;33m.\u001b[0m\u001b[0mylim\u001b[0m\u001b[1;33m(\u001b[0m\u001b[1;33m[\u001b[0m\u001b[1;36m0\u001b[0m\u001b[1;33m,\u001b[0m \u001b[1;36m1\u001b[0m\u001b[1;33m]\u001b[0m\u001b[1;33m)\u001b[0m\u001b[1;33m\u001b[0m\u001b[1;33m\u001b[0m\u001b[0m\n\u001b[0;32m     30\u001b[0m \u001b[1;33m\u001b[0m\u001b[0m\n\u001b[1;32m---> 31\u001b[1;33m     \u001b[0mthisplot\u001b[0m\u001b[1;33m[\u001b[0m\u001b[0mpredicted_label\u001b[0m\u001b[1;33m]\u001b[0m\u001b[1;33m.\u001b[0m\u001b[0mset_color\u001b[0m\u001b[1;33m(\u001b[0m\u001b[1;34m'red'\u001b[0m\u001b[1;33m)\u001b[0m\u001b[1;33m\u001b[0m\u001b[1;33m\u001b[0m\u001b[0m\n\u001b[0m\u001b[0;32m     32\u001b[0m     \u001b[0mthisplot\u001b[0m\u001b[1;33m[\u001b[0m\u001b[0mtrue_label\u001b[0m\u001b[1;33m]\u001b[0m\u001b[1;33m.\u001b[0m\u001b[0mset_color\u001b[0m\u001b[1;33m(\u001b[0m\u001b[1;34m'green'\u001b[0m\u001b[1;33m)\u001b[0m\u001b[1;33m\u001b[0m\u001b[1;33m\u001b[0m\u001b[0m\n",
      "\u001b[1;31mNameError\u001b[0m: name 'predicted_label' is not defined"
     ]
    },
    {
     "data": {
      "image/png": "[encoded data removed]",
      "text/plain": [
       "<Figure size 432x216 with 2 Axes>"
      ]
     },
     "metadata": {},
     "output_type": "display_data"
    }
   ],
   "source": [
    "i = 0\n",
    "plt.figure(figsize=(6,3))\n",
    "plt.subplot(1,2,1)\n",
    "plot_image(i, predictions, test_labels, test_images)\n",
    "plt.subplot(1,2,2)\n",
    "plot_value_array(i, predictions, test_labels)\n",
    "plt.show()"
   ]
  },
  {
   "cell_type": "code",
   "execution_count": 67,
   "metadata": {},
   "outputs": [
    {
     "ename": "NameError",
     "evalue": "name 'predicted_label' is not defined",
     "output_type": "error",
     "traceback": [
      "\u001b[1;31m---------------------------------------------------------------------------\u001b[0m",
      "\u001b[1;31mNameError\u001b[0m                                 Traceback (most recent call last)",
      "\u001b[1;32m<ipython-input-67-60197db93773>\u001b[0m in \u001b[0;36m<module>\u001b[1;34m\u001b[0m\n\u001b[0;32m      4\u001b[0m \u001b[0mplot_image\u001b[0m\u001b[1;33m(\u001b[0m\u001b[0mi\u001b[0m\u001b[1;33m,\u001b[0m \u001b[0mpredictions\u001b[0m\u001b[1;33m,\u001b[0m \u001b[0mtest_labels\u001b[0m\u001b[1;33m,\u001b[0m \u001b[0mtest_images\u001b[0m\u001b[1;33m)\u001b[0m\u001b[1;33m\u001b[0m\u001b[1;33m\u001b[0m\u001b[0m\n\u001b[0;32m      5\u001b[0m \u001b[0mplt\u001b[0m\u001b[1;33m.\u001b[0m\u001b[0msubplot\u001b[0m\u001b[1;33m(\u001b[0m\u001b[1;36m1\u001b[0m\u001b[1;33m,\u001b[0m\u001b[1;36m2\u001b[0m\u001b[1;33m,\u001b[0m\u001b[1;36m2\u001b[0m\u001b[1;33m)\u001b[0m\u001b[1;33m\u001b[0m\u001b[1;33m\u001b[0m\u001b[0m\n\u001b[1;32m----> 6\u001b[1;33m \u001b[0mplot_value_array\u001b[0m\u001b[1;33m(\u001b[0m\u001b[0mi\u001b[0m\u001b[1;33m,\u001b[0m \u001b[0mpredictions\u001b[0m\u001b[1;33m,\u001b[0m \u001b[0mtest_labels\u001b[0m\u001b[1;33m)\u001b[0m\u001b[1;33m\u001b[0m\u001b[1;33m\u001b[0m\u001b[0m\n\u001b[0m\u001b[0;32m      7\u001b[0m \u001b[0mplt\u001b[0m\u001b[1;33m.\u001b[0m\u001b[0mshow\u001b[0m\u001b[1;33m(\u001b[0m\u001b[1;33m)\u001b[0m\u001b[1;33m\u001b[0m\u001b[1;33m\u001b[0m\u001b[0m\n",
      "\u001b[1;32m<ipython-input-64-c421e5aff4f0>\u001b[0m in \u001b[0;36mplot_value_array\u001b[1;34m(i, predictions_array, true_label)\u001b[0m\n\u001b[0;32m     28\u001b[0m     \u001b[0mplt\u001b[0m\u001b[1;33m.\u001b[0m\u001b[0mylim\u001b[0m\u001b[1;33m(\u001b[0m\u001b[1;33m[\u001b[0m\u001b[1;36m0\u001b[0m\u001b[1;33m,\u001b[0m \u001b[1;36m1\u001b[0m\u001b[1;33m]\u001b[0m\u001b[1;33m)\u001b[0m\u001b[1;33m\u001b[0m\u001b[1;33m\u001b[0m\u001b[0m\n\u001b[0;32m     29\u001b[0m \u001b[1;33m\u001b[0m\u001b[0m\n\u001b[1;32m---> 30\u001b[1;33m     \u001b[0mthisplot\u001b[0m\u001b[1;33m[\u001b[0m\u001b[0mpredicted_label\u001b[0m\u001b[1;33m]\u001b[0m\u001b[1;33m.\u001b[0m\u001b[0mset_color\u001b[0m\u001b[1;33m(\u001b[0m\u001b[1;34m'red'\u001b[0m\u001b[1;33m)\u001b[0m\u001b[1;33m\u001b[0m\u001b[1;33m\u001b[0m\u001b[0m\n\u001b[0m\u001b[0;32m     31\u001b[0m     \u001b[0mthisplot\u001b[0m\u001b[1;33m[\u001b[0m\u001b[0mtrue_label\u001b[0m\u001b[1;33m]\u001b[0m\u001b[1;33m.\u001b[0m\u001b[0mset_color\u001b[0m\u001b[1;33m(\u001b[0m\u001b[1;34m'green'\u001b[0m\u001b[1;33m)\u001b[0m\u001b[1;33m\u001b[0m\u001b[1;33m\u001b[0m\u001b[0m\n",
      "\u001b[1;31mNameError\u001b[0m: name 'predicted_label' is not defined"
     ]
    },
    {
     "data": {
      "image/png": "[encoded data removed]",
      "text/plain": [
       "<Figure size 432x216 with 2 Axes>"
      ]
     },
     "metadata": {},
     "output_type": "display_data"
    }
   ],
   "source": [
    "i = 20\n",
    "plt.figure(figsize=(6,3))\n",
    "plt.subplot(1,2,1)\n",
    "plot_image(i, predictions, test_labels, test_images)\n",
    "plt.subplot(1,2,2)\n",
    "plot_value_array(i, predictions, test_labels)\n",
    "plt.show()"
   ]
  },
  {
   "cell_type": "code",
   "execution_count": 68,
   "metadata": {},
   "outputs": [
    {
     "ename": "NameError",
     "evalue": "name 'predicted_label' is not defined",
     "output_type": "error",
     "traceback": [
      "\u001b[1;31m---------------------------------------------------------------------------\u001b[0m",
      "\u001b[1;31mNameError\u001b[0m                                 Traceback (most recent call last)",
      "\u001b[1;32m<ipython-input-68-b611e0e42330>\u001b[0m in \u001b[0;36m<module>\u001b[1;34m\u001b[0m\n\u001b[0;32m      7\u001b[0m     \u001b[0mplot_image\u001b[0m\u001b[1;33m(\u001b[0m\u001b[0mi\u001b[0m\u001b[1;33m,\u001b[0m \u001b[0mpredictions\u001b[0m\u001b[1;33m,\u001b[0m \u001b[0mtest_labels\u001b[0m\u001b[1;33m,\u001b[0m \u001b[0mtest_images\u001b[0m\u001b[1;33m)\u001b[0m\u001b[1;33m\u001b[0m\u001b[1;33m\u001b[0m\u001b[0m\n\u001b[0;32m      8\u001b[0m     \u001b[0mplt\u001b[0m\u001b[1;33m.\u001b[0m\u001b[0msubplot\u001b[0m\u001b[1;33m(\u001b[0m\u001b[0mnum_rows\u001b[0m\u001b[1;33m,\u001b[0m \u001b[1;36m2\u001b[0m\u001b[1;33m*\u001b[0m\u001b[0mnum_cols\u001b[0m\u001b[1;33m,\u001b[0m \u001b[1;36m2\u001b[0m\u001b[1;33m*\u001b[0m\u001b[0mi\u001b[0m\u001b[1;33m+\u001b[0m\u001b[1;36m2\u001b[0m\u001b[1;33m)\u001b[0m\u001b[1;33m\u001b[0m\u001b[1;33m\u001b[0m\u001b[0m\n\u001b[1;32m----> 9\u001b[1;33m     \u001b[0mplot_value_array\u001b[0m\u001b[1;33m(\u001b[0m\u001b[0mi\u001b[0m\u001b[1;33m,\u001b[0m \u001b[0mpredictions\u001b[0m\u001b[1;33m,\u001b[0m \u001b[0mtest_labels\u001b[0m\u001b[1;33m)\u001b[0m\u001b[1;33m\u001b[0m\u001b[1;33m\u001b[0m\u001b[0m\n\u001b[0m\u001b[0;32m     10\u001b[0m \u001b[0mplt\u001b[0m\u001b[1;33m.\u001b[0m\u001b[0mshow\u001b[0m\u001b[1;33m(\u001b[0m\u001b[1;33m)\u001b[0m\u001b[1;33m\u001b[0m\u001b[1;33m\u001b[0m\u001b[0m\n",
      "\u001b[1;32m<ipython-input-64-c421e5aff4f0>\u001b[0m in \u001b[0;36mplot_value_array\u001b[1;34m(i, predictions_array, true_label)\u001b[0m\n\u001b[0;32m     28\u001b[0m     \u001b[0mplt\u001b[0m\u001b[1;33m.\u001b[0m\u001b[0mylim\u001b[0m\u001b[1;33m(\u001b[0m\u001b[1;33m[\u001b[0m\u001b[1;36m0\u001b[0m\u001b[1;33m,\u001b[0m \u001b[1;36m1\u001b[0m\u001b[1;33m]\u001b[0m\u001b[1;33m)\u001b[0m\u001b[1;33m\u001b[0m\u001b[1;33m\u001b[0m\u001b[0m\n\u001b[0;32m     29\u001b[0m \u001b[1;33m\u001b[0m\u001b[0m\n\u001b[1;32m---> 30\u001b[1;33m     \u001b[0mthisplot\u001b[0m\u001b[1;33m[\u001b[0m\u001b[0mpredicted_label\u001b[0m\u001b[1;33m]\u001b[0m\u001b[1;33m.\u001b[0m\u001b[0mset_color\u001b[0m\u001b[1;33m(\u001b[0m\u001b[1;34m'red'\u001b[0m\u001b[1;33m)\u001b[0m\u001b[1;33m\u001b[0m\u001b[1;33m\u001b[0m\u001b[0m\n\u001b[0m\u001b[0;32m     31\u001b[0m     \u001b[0mthisplot\u001b[0m\u001b[1;33m[\u001b[0m\u001b[0mtrue_label\u001b[0m\u001b[1;33m]\u001b[0m\u001b[1;33m.\u001b[0m\u001b[0mset_color\u001b[0m\u001b[1;33m(\u001b[0m\u001b[1;34m'green'\u001b[0m\u001b[1;33m)\u001b[0m\u001b[1;33m\u001b[0m\u001b[1;33m\u001b[0m\u001b[0m\n",
      "\u001b[1;31mNameError\u001b[0m: name 'predicted_label' is not defined"
     ]
    },
    {
     "data": {
      "image/png": "[encoded data removed]",
      "text/plain": [
       "<Figure size 864x720 with 2 Axes>"
      ]
     },
     "metadata": {},
     "output_type": "display_data"
    }
   ],
   "source": [
    "num_rows = 5\n",
    "num_cols = 3\n",
    "num_images = num_rows*num_cols\n",
    "plt.figure(figsize=(2*2*num_cols, 2*num_rows))\n",
    "for i in range(num_images):\n",
    "    plt.subplot(num_rows, 2*num_cols, 2*i+1)\n",
    "    plot_image(i, predictions, test_labels, test_images)\n",
    "    plt.subplot(num_rows, 2*num_cols, 2*i+2)\n",
    "    plot_value_array(i, predictions, test_labels)\n",
    "plt.show()    "
   ]
  },
  {
   "cell_type": "code",
   "execution_count": 73,
   "metadata": {},
   "outputs": [
    {
     "name": "stdout",
     "output_type": "stream",
     "text": [
      "(28, 28)\n"
     ]
    }
   ],
   "source": [
    "img = test_images[0]\n",
    "print(img.shape)"
   ]
  },
  {
   "cell_type": "code",
   "execution_count": 76,
   "metadata": {},
   "outputs": [
    {
     "name": "stdout",
     "output_type": "stream",
     "text": [
      "(1, 1, 28, 28)\n"
     ]
    }
   ],
   "source": [
    "img = (np.expand_dims(img,0))\n",
    "print(img.shape)"
   ]
  },
  {
   "cell_type": "code",
   "execution_count": 80,
   "metadata": {},
   "outputs": [
    {
     "ename": "ValueError",
     "evalue": "in user code:\n\n    File \"C:\\Users\\SAGNIK DAS\\anaconda3\\lib\\site-packages\\keras\\engine\\training.py\", line 1621, in predict_function  *\n        return step_function(self, iterator)\n    File \"C:\\Users\\SAGNIK DAS\\anaconda3\\lib\\site-packages\\keras\\engine\\training.py\", line 1611, in step_function  **\n        outputs = model.distribute_strategy.run(run_step, args=(data,))\n    File \"C:\\Users\\SAGNIK DAS\\anaconda3\\lib\\site-packages\\keras\\engine\\training.py\", line 1604, in run_step  **\n        outputs = model.predict_step(data)\n    File \"C:\\Users\\SAGNIK DAS\\anaconda3\\lib\\site-packages\\keras\\engine\\training.py\", line 1572, in predict_step\n        return self(x, training=False)\n    File \"C:\\Users\\SAGNIK DAS\\anaconda3\\lib\\site-packages\\keras\\utils\\traceback_utils.py\", line 67, in error_handler\n        raise e.with_traceback(filtered_tb) from None\n    File \"C:\\Users\\SAGNIK DAS\\anaconda3\\lib\\site-packages\\keras\\engine\\input_spec.py\", line 263, in assert_input_compatibility\n        raise ValueError(f'Input {input_index} of layer \"{layer_name}\" is '\n\n    ValueError: Input 0 of layer \"sequential\" is incompatible with the layer: expected shape=(None, 28, 28), found shape=(None, 1, 28, 28)\n",
     "output_type": "error",
     "traceback": [
      "\u001b[1;31m---------------------------------------------------------------------------\u001b[0m",
      "\u001b[1;31mValueError\u001b[0m                                Traceback (most recent call last)",
      "\u001b[1;32m<ipython-input-80-2bf863aefdf5>\u001b[0m in \u001b[0;36m<module>\u001b[1;34m\u001b[0m\n\u001b[1;32m----> 1\u001b[1;33m \u001b[0mpredictions_single\u001b[0m \u001b[1;33m=\u001b[0m \u001b[0mmodel\u001b[0m\u001b[1;33m.\u001b[0m\u001b[0mpredict\u001b[0m\u001b[1;33m(\u001b[0m\u001b[0mimg\u001b[0m\u001b[1;33m)\u001b[0m\u001b[1;33m\u001b[0m\u001b[1;33m\u001b[0m\u001b[0m\n\u001b[0m\u001b[0;32m      2\u001b[0m \u001b[0mprint\u001b[0m\u001b[1;33m(\u001b[0m\u001b[0mpredictions_single\u001b[0m\u001b[1;33m)\u001b[0m\u001b[1;33m\u001b[0m\u001b[1;33m\u001b[0m\u001b[0m\n",
      "\u001b[1;32m~\\anaconda3\\lib\\site-packages\\keras\\utils\\traceback_utils.py\u001b[0m in \u001b[0;36merror_handler\u001b[1;34m(*args, **kwargs)\u001b[0m\n\u001b[0;32m     65\u001b[0m     \u001b[1;32mexcept\u001b[0m \u001b[0mException\u001b[0m \u001b[1;32mas\u001b[0m \u001b[0me\u001b[0m\u001b[1;33m:\u001b[0m  \u001b[1;31m# pylint: disable=broad-except\u001b[0m\u001b[1;33m\u001b[0m\u001b[1;33m\u001b[0m\u001b[0m\n\u001b[0;32m     66\u001b[0m       \u001b[0mfiltered_tb\u001b[0m \u001b[1;33m=\u001b[0m \u001b[0m_process_traceback_frames\u001b[0m\u001b[1;33m(\u001b[0m\u001b[0me\u001b[0m\u001b[1;33m.\u001b[0m\u001b[0m__traceback__\u001b[0m\u001b[1;33m)\u001b[0m\u001b[1;33m\u001b[0m\u001b[1;33m\u001b[0m\u001b[0m\n\u001b[1;32m---> 67\u001b[1;33m       \u001b[1;32mraise\u001b[0m \u001b[0me\u001b[0m\u001b[1;33m.\u001b[0m\u001b[0mwith_traceback\u001b[0m\u001b[1;33m(\u001b[0m\u001b[0mfiltered_tb\u001b[0m\u001b[1;33m)\u001b[0m \u001b[1;32mfrom\u001b[0m \u001b[1;32mNone\u001b[0m\u001b[1;33m\u001b[0m\u001b[1;33m\u001b[0m\u001b[0m\n\u001b[0m\u001b[0;32m     68\u001b[0m     \u001b[1;32mfinally\u001b[0m\u001b[1;33m:\u001b[0m\u001b[1;33m\u001b[0m\u001b[1;33m\u001b[0m\u001b[0m\n\u001b[0;32m     69\u001b[0m       \u001b[1;32mdel\u001b[0m \u001b[0mfiltered_tb\u001b[0m\u001b[1;33m\u001b[0m\u001b[1;33m\u001b[0m\u001b[0m\n",
      "\u001b[1;32m~\\anaconda3\\lib\\site-packages\\tensorflow\\python\\framework\\func_graph.py\u001b[0m in \u001b[0;36mautograph_handler\u001b[1;34m(*args, **kwargs)\u001b[0m\n\u001b[0;32m   1127\u001b[0m           \u001b[1;32mexcept\u001b[0m \u001b[0mException\u001b[0m \u001b[1;32mas\u001b[0m \u001b[0me\u001b[0m\u001b[1;33m:\u001b[0m  \u001b[1;31m# pylint:disable=broad-except\u001b[0m\u001b[1;33m\u001b[0m\u001b[1;33m\u001b[0m\u001b[0m\n\u001b[0;32m   1128\u001b[0m             \u001b[1;32mif\u001b[0m \u001b[0mhasattr\u001b[0m\u001b[1;33m(\u001b[0m\u001b[0me\u001b[0m\u001b[1;33m,\u001b[0m \u001b[1;34m\"ag_error_metadata\"\u001b[0m\u001b[1;33m)\u001b[0m\u001b[1;33m:\u001b[0m\u001b[1;33m\u001b[0m\u001b[1;33m\u001b[0m\u001b[0m\n\u001b[1;32m-> 1129\u001b[1;33m               \u001b[1;32mraise\u001b[0m \u001b[0me\u001b[0m\u001b[1;33m.\u001b[0m\u001b[0mag_error_metadata\u001b[0m\u001b[1;33m.\u001b[0m\u001b[0mto_exception\u001b[0m\u001b[1;33m(\u001b[0m\u001b[0me\u001b[0m\u001b[1;33m)\u001b[0m\u001b[1;33m\u001b[0m\u001b[1;33m\u001b[0m\u001b[0m\n\u001b[0m\u001b[0;32m   1130\u001b[0m             \u001b[1;32melse\u001b[0m\u001b[1;33m:\u001b[0m\u001b[1;33m\u001b[0m\u001b[1;33m\u001b[0m\u001b[0m\n\u001b[0;32m   1131\u001b[0m               \u001b[1;32mraise\u001b[0m\u001b[1;33m\u001b[0m\u001b[1;33m\u001b[0m\u001b[0m\n",
      "\u001b[1;31mValueError\u001b[0m: in user code:\n\n    File \"C:\\Users\\SAGNIK DAS\\anaconda3\\lib\\site-packages\\keras\\engine\\training.py\", line 1621, in predict_function  *\n        return step_function(self, iterator)\n    File \"C:\\Users\\SAGNIK DAS\\anaconda3\\lib\\site-packages\\keras\\engine\\training.py\", line 1611, in step_function  **\n        outputs = model.distribute_strategy.run(run_step, args=(data,))\n    File \"C:\\Users\\SAGNIK DAS\\anaconda3\\lib\\site-packages\\keras\\engine\\training.py\", line 1604, in run_step  **\n        outputs = model.predict_step(data)\n    File \"C:\\Users\\SAGNIK DAS\\anaconda3\\lib\\site-packages\\keras\\engine\\training.py\", line 1572, in predict_step\n        return self(x, training=False)\n    File \"C:\\Users\\SAGNIK DAS\\anaconda3\\lib\\site-packages\\keras\\utils\\traceback_utils.py\", line 67, in error_handler\n        raise e.with_traceback(filtered_tb) from None\n    File \"C:\\Users\\SAGNIK DAS\\anaconda3\\lib\\site-packages\\keras\\engine\\input_spec.py\", line 263, in assert_input_compatibility\n        raise ValueError(f'Input {input_index} of layer \"{layer_name}\" is '\n\n    ValueError: Input 0 of layer \"sequential\" is incompatible with the layer: expected shape=(None, 28, 28), found shape=(None, 1, 28, 28)\n"
     ]
    }
   ],
   "source": [
    "predictions_single = model.predict(img)\n",
    "print(predictions_single)"
   ]
  },
  {
   "cell_type": "code",
   "execution_count": 82,
   "metadata": {},
   "outputs": [
    {
     "ename": "NameError",
     "evalue": "name 'predictions_single' is not defined",
     "output_type": "error",
     "traceback": [
      "\u001b[1;31m---------------------------------------------------------------------------\u001b[0m",
      "\u001b[1;31mNameError\u001b[0m                                 Traceback (most recent call last)",
      "\u001b[1;32m<ipython-input-82-dd42ee1809be>\u001b[0m in \u001b[0;36m<module>\u001b[1;34m\u001b[0m\n\u001b[1;32m----> 1\u001b[1;33m \u001b[0mplot_value_array\u001b[0m\u001b[1;33m(\u001b[0m\u001b[1;36m0\u001b[0m\u001b[1;33m,\u001b[0m \u001b[0mpredictions_single\u001b[0m\u001b[1;33m,\u001b[0m \u001b[0mtest_labels\u001b[0m\u001b[1;33m)\u001b[0m\u001b[1;33m\u001b[0m\u001b[1;33m\u001b[0m\u001b[0m\n\u001b[0m\u001b[0;32m      2\u001b[0m \u001b[0m_\u001b[0m \u001b[1;33m=\u001b[0m \u001b[0mplt\u001b[0m\u001b[1;33m.\u001b[0m\u001b[0mxtics\u001b[0m\u001b[1;33m(\u001b[0m\u001b[0mrange\u001b[0m\u001b[1;33m(\u001b[0m\u001b[1;36m10\u001b[0m\u001b[1;33m)\u001b[0m\u001b[1;33m,\u001b[0m \u001b[0mclass_names\u001b[0m\u001b[1;33m,\u001b[0m \u001b[0mrotation\u001b[0m\u001b[1;33m=\u001b[0m\u001b[1;36m45\u001b[0m\u001b[1;33m)\u001b[0m\u001b[1;33m\u001b[0m\u001b[1;33m\u001b[0m\u001b[0m\n",
      "\u001b[1;31mNameError\u001b[0m: name 'predictions_single' is not defined"
     ]
    }
   ],
   "source": [
    "plot_value_array(0, predictions_single, test_labels)\n",
    "_ = plt.xtics(range(10), class_names, rotation=45)"
   ]
  },
  {
   "cell_type": "code",
   "execution_count": 83,
   "metadata": {},
   "outputs": [
    {
     "ename": "NameError",
     "evalue": "name 'predictions_single' is not defined",
     "output_type": "error",
     "traceback": [
      "\u001b[1;31m---------------------------------------------------------------------------\u001b[0m",
      "\u001b[1;31mNameError\u001b[0m                                 Traceback (most recent call last)",
      "\u001b[1;32m<ipython-input-83-6c9064b03397>\u001b[0m in \u001b[0;36m<module>\u001b[1;34m\u001b[0m\n\u001b[1;32m----> 1\u001b[1;33m \u001b[0mnp\u001b[0m\u001b[1;33m.\u001b[0m\u001b[0margmax\u001b[0m\u001b[1;33m(\u001b[0m\u001b[0mpredictions_single\u001b[0m\u001b[1;33m(\u001b[0m\u001b[1;36m0\u001b[0m\u001b[1;33m)\u001b[0m\u001b[1;33m)\u001b[0m\u001b[1;33m\u001b[0m\u001b[1;33m\u001b[0m\u001b[0m\n\u001b[0m",
      "\u001b[1;31mNameError\u001b[0m: name 'predictions_single' is not defined"
     ]
    }
   ],
   "source": [
    "np.argmax(predictions_single(0))"
   ]
  },
  {
   "cell_type": "code",
   "execution_count": null,
   "metadata": {},
   "outputs": [],
   "source": []
  }
 ],
 "metadata": {
  "kernelspec": {
   "display_name": "Python 3",
   "language": "python",
   "name": "python3"
  },
  "language_info": {
   "codemirror_mode": {
    "name": "ipython",
    "version": 3
   },
   "file_extension": ".py",
   "mimetype": "text/x-python",
   "name": "python",
   "nbconvert_exporter": "python",
   "pygments_lexer": "ipython3",
   "version": "3.8.5"
  }
 },
 "nbformat": 4,
 "nbformat_minor": 4
}
